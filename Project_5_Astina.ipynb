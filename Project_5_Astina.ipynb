{
  "nbformat": 4,
  "nbformat_minor": 0,
  "metadata": {
    "colab": {
      "provenance": [],
      "collapsed_sections": []
    },
    "kernelspec": {
      "name": "python3",
      "display_name": "Python 3"
    },
    "language_info": {
      "name": "python"
    }
  },
  "cells": [
    {
      "cell_type": "code",
      "execution_count": 1,
      "metadata": {
        "id": "uOyAW9BcVuTc"
      },
      "outputs": [],
      "source": [
        "import os\n",
        "import pandas as pd\n",
        "import numpy as np\n",
        "import matplotlib.pyplot as plt\n",
        "import seaborn as sns"
      ]
    },
    {
      "cell_type": "code",
      "source": [
        "path = pd.read_csv(\"/content/train.csv\")"
      ],
      "metadata": {
        "id": "xk35ZduSVu5W"
      },
      "execution_count": 2,
      "outputs": []
    },
    {
      "cell_type": "code",
      "source": [
        "path.columns"
      ],
      "metadata": {
        "colab": {
          "base_uri": "https://localhost:8080/"
        },
        "id": "05bFClbSj0P9",
        "outputId": "e83829d8-7323-4852-b82d-32d84be221e9"
      },
      "execution_count": 4,
      "outputs": [
        {
          "output_type": "execute_result",
          "data": {
            "text/plain": [
              "Index(['id', 'tweet', 'state', 'location', 's1', 's2', 's3', 's4', 's5', 'w1',\n",
              "       'w2', 'w3', 'w4', 'k1', 'k2', 'k3', 'k4', 'k5', 'k6', 'k7', 'k8', 'k9',\n",
              "       'k10', 'k11', 'k12', 'k13', 'k14', 'k15'],\n",
              "      dtype='object')"
            ]
          },
          "metadata": {},
          "execution_count": 4
        }
      ]
    },
    {
      "cell_type": "code",
      "source": [
        "def _load_and_shuffle_data(data_path,\n",
        "                           file_name,\n",
        "                           cols,\n",
        "                           seed,\n",
        "                           separator=',',\n",
        "                           header=0):\n",
        "    \"\"\"Loads and shuffles the dataset using pandas.\n",
        "    # Arguments\n",
        "        data_path: string, path to the data directory.\n",
        "        file_name: string, name of the data file.\n",
        "        cols: list, columns to load from the data file.\n",
        "        seed: int, seed for randomizer.\n",
        "        separator: string, separator to use for splitting data.\n",
        "        header: int, row to use as data header.\n",
        "    \"\"\"\n",
        "    np.random.seed(seed)\n",
        "    data_path = os.path.join(data_path, file_name)\n",
        "    data = pd.read_csv(data_path, usecols=cols, sep=separator, header=header)\n",
        "    return data.reindex(np.random.permutation(data.index))\n",
        "\n",
        "\n",
        "def _split_training_and_validation_sets(texts, labels, validation_split):\n",
        "    \"\"\"Splits the texts and labels into training and validation sets.\n",
        "    # Arguments\n",
        "        texts: list, text data.\n",
        "        labels: list, label data.\n",
        "        validation_split: float, percentage of data to use for validation.\n",
        "    # Returns\n",
        "        A tuple of training and validation data.\n",
        "    \"\"\"\n",
        "    num_training_samples = int((1 - validation_split) * len(texts))\n",
        "    return ((texts[:num_training_samples], labels[:num_training_samples]),\n",
        "            (texts[num_training_samples:], labels[num_training_samples:]))\n",
        "    \n",
        "def load_tweet_weather_topic_classification_dataset(data_path,\n",
        "                                                    validation_split=0.2,\n",
        "                                                    seed=123):\n",
        "   \n",
        "    columns = [1] + [i for i in range(13, 28)]  # 1 - text, 13-28 - topics.\n",
        "    data = _load_and_shuffle_data(data_path, 'train.csv', columns, seed)\n",
        "\n",
        "    # Get tweet text and the max confidence score for the weather types.\n",
        "    texts = list(data['tweet'])\n",
        "    weather_data = data.iloc[:, 1:]\n",
        "\n",
        "    labels = []\n",
        "    for i in range(len(texts)):\n",
        "        # Pick topic with the max confidence score.\n",
        "        labels.append(np.argmax(list(weather_data.iloc[i, :].values)))\n",
        "\n",
        "    return _split_training_and_validation_sets(\n",
        "        texts, np.array(labels), validation_split)"
      ],
      "metadata": {
        "id": "RshcMFfrWDjh"
      },
      "execution_count": 7,
      "outputs": []
    },
    {
      "cell_type": "code",
      "source": [
        "(train_data, train_labels),(test_data, test_labels)=load_tweet_weather_topic_classification_dataset('')"
      ],
      "metadata": {
        "id": "yKDoTHRIVu8l"
      },
      "execution_count": 8,
      "outputs": []
    },
    {
      "cell_type": "code",
      "source": [
        "train_data"
      ],
      "metadata": {
        "colab": {
          "base_uri": "https://localhost:8080/"
        },
        "id": "JQsPC6-8VvDy",
        "outputId": "308b7c47-0bb3-47c2-ac65-0845aa774e9e"
      },
      "execution_count": 9,
      "outputs": [
        {
          "output_type": "execute_result",
          "data": {
            "text/plain": [
              "['79.0F (Feels: 79.0F) - Humidity: 99% - Wind: 8.3mph N - Gust: 9.8mph - Pressure: 1010.6mb (+0.1)  #weather {link}',\n",
              " \"I'm glad it's nice weather here for Bike to Work Day. Not that I did. Bike to work. I just like nice weather.\",\n",
              " 'Freezing Ass Cold. Sometimes I Hate Central Air. Smh.',\n",
              " '@mention I will trust what you say weather brandy!',\n",
              " 'Powell WX (05/20/11 10:00 PM) Temp=66.0&#xB0;F \\\\ Daily Rain= 0.00 in. \\\\ Max Gust=4.9 mph',\n",
              " 'Finding peace through the storm',\n",
              " 'Breaking News? Maybe if it was 75 & Sunny! RT @mention Breaking News: Cape weather: Clouds coming {link}',\n",
              " \"Watch Austins baseball practice from the car. It's too darn cold out!\",\n",
              " \"Good morning. Outside our house. It's sunny today. Great day.\",\n",
              " '@mention lol the fiercest weather..aint that when we fell in like the mud or something',\n",
              " 'Gorgeous sunshine outside, lovely drive, painless dr. visit, even got some work done. Not a bad day at all. Now for some Mexican food.',\n",
              " 'Horrible storm in Missouri!!!!  Tornado destroys again!!! O, my!',\n",
              " 'It was cold and semi rainy, but the camping trip was a success!',\n",
              " \"And no, don't worry, I'm not watching Vanity Fair. Sticking with my regular list: Eternal Sunshine.\",\n",
              " 'Chief Meteorologist John Gerard says we hit 100 degrees today in San Antonio. It hit 100 just before 5PM, first time this year!',\n",
              " '@mention Cloudy and dreary and rainy til Tuesday, right?',\n",
              " 'Hmmm just as windy in dishforth',\n",
              " 'RT @mention: Ride along with tornado chasers in Oklahoma and Kansas: {link} and {link} ...',\n",
              " 'today is one of those weird weather days in #stl.. warm, windy, sunny/cloudy all at the same time! #onlyinstl',\n",
              " '11:10-Sky:  overcast|Vis: 10mi -Temp: 65.3F-Hum: 69.0 %-Pres: 29.65\"-24Hr Rain: 0.04\"-Winds: WSW 3.8 MPH-Windchill: 65.3F #cltwx',\n",
              " 'RT @mention: Burnet, Gillespie and Llano counties are now under a Severe Thunderstorm Watch until 6pm.    {link}',\n",
              " '@mention oh yeah! Sunscreen-colored! Nice weather, great win!',\n",
              " '6:00am: 5.1c, 1018mb(-), 45%, 0.0mm, 6.9mph - NW {link} #weather',\n",
              " \"So cold. Wtf? I'm so sensitive to the weather.\",\n",
              " 'Weather data at 8:00 PM. 59.0&#xB0;F, 62&#x25; humidity. Wind: 0.0 mph from the E. Rain: 0.00 in. NO CURRENT ADVISORIES',\n",
              " 'Irvine-based Blizzard gives $800000 to Make-A-Wish: By OC METRO staffPublished: May 05, 2011 03:14 PM Irvine-based Blizzard Entertain...',\n",
              " 'ZumbaZumbaZumbaaaaaaa! Lovely morning thismorningg, tad windy tho',\n",
              " 'Keeping #Joplin in our prayers as severe weather threatens them again.',\n",
              " 'Q: Are you scared of thunderstorms? A: Hell no: {link}',\n",
              " \"I'm glad to see the Texas Rangers handle severe weather better than the @mention decided to.  It should never be taken lightly.\",\n",
              " 'Outside: 65.2 F, Humidity: 25%, Wind: (25) 7 mph, Press: 30.01\", Rain: 0.00',\n",
              " \"It is not nice out. It is hot out. Don't let anyone tell you otherwise. They're lying.\",\n",
              " 'Dora church helps storm victims with laundry {link}',\n",
              " \"No lunch stop today but we'll be at 57 Degrees tonight from 5p-8p for the food truck meetup! Check our facebook for the menu....:)\",\n",
              " \"Just found out it's 75 and sunny in Alaska right now. Umm really? Step it up, New England.\",\n",
              " 'Bedtime for me folks.  It was a good day for our side.  Saying prayers for folks ravaged by severe weather.  Nitey nite #twitterlibs #p2',\n",
              " 'brrr so cold outside!!',\n",
              " \"@mention (We came out to make lunch, oddly enough, it's sunny again. Sirens are still going off though.)\",\n",
              " 'Today on the Dr. Gina show:  Heroes of the Tornado Devastation finding miracles in the storm of our lives. (jen)',\n",
              " \"@mention weather nicer in Tulsa I'm guessing?\",\n",
              " 'On Rainy Days mirip lagu apa gt.. krg demen :( tp ttp beast fighting!',\n",
              " \"Y can't it stay like 78 degrees year round?\",\n",
              " \":-(RT @mention: I still can't believe we only had one snow day this year!\",\n",
              " 'Free south dakota fishing this weekend without a lisence. Maybe the weather will even be nice enough to go out too!',\n",
              " 'Thought I could get to it but the storm is too much of a slow-mover.',\n",
              " '@mention wheezy, rainy, and glad its the weekend lol',\n",
              " 'Severe Thunderstorm Warning in effect until 4:30 this afternoon. {link}',\n",
              " '@mention true. is the weather really bad down there?',\n",
              " 'I feel like going to the pool. Such good weather out. Someone have a pool party',\n",
              " 'My ma not finna come in here scared over no storm...like how old are you?',\n",
              " \"The weather outside made me wet. Mmm ... girls I'm ready.\",\n",
              " 'The perfect storm lol',\n",
              " \"Finally! Beautiful weather for driving! I'm jealous that @mention spent the day at john ball zoo, though... :)\",\n",
              " 'RT @mention: Unusual weather forecast: {link}',\n",
              " '#WEATHER:  1:53 pm : 87.0F. Feels F. 29.92% Humidity. 4.6MPH Variable Wind.',\n",
              " '@mention please do.... Need amazing weather....',\n",
              " '@mention 2 blackberries. A storm and a curve.',\n",
              " 'Tatum, NM @ 12:00 PM: Temp:72F(H 72/L 53), Hum:16&#x25;, DewPt:23F, Wind: WSW at 15 G 33.0 mph, Rain:0.00 In. #weather',\n",
              " '#emsmbr Adam dreaming of warm sunny weather to ride in, while on the ferry. {link}',\n",
              " 'Just saw the weather forecast. Nobody breath too hard. I really really NEED these 80 degree days.',\n",
              " 'En route to chili with @mention, @mention, @mention, and Rachel. Perfect for this rainy day.',\n",
              " '#WEATHER:  12:53 am: 79.0F. Feels F. 29.85% Humidity. 9.2MPH Southeast Wind.',\n",
              " 'Off to sunny Tampa,FL Fair grounds to show large pony hunters after bad storm last night',\n",
              " '#IfTheWorldEndsOnSaturday HOW THE FUK YALL GONNA PREDICT NEXT WEEKS WEATHER FORE CAST FRM SUN-THURS IF WE SUPPOSE 2 B FUKN DEAD! #Guh',\n",
              " \"wow I don't even have asthma but this hot weather makes me feel like im boutta have an asthma attack. #nolie.\",\n",
              " 'this weather is awful lol',\n",
              " 'cherry blizzard..extra cherries.',\n",
              " 'Rainy days = movie day',\n",
              " '#ATOC re-route and 3\" of snow possible. {link}',\n",
              " '@mention same company, different bldg, 90 degrees when I got to work.  Malfunction left heat on high all wknd.',\n",
              " \"@mention   Weather should be GREAT for Pirates game.  Im definitely going.  Here's the forecast:  {link}\",\n",
              " 'Sitting here at work watching this crazy weather!! Glad im not outside!!',\n",
              " '@mention morning sunshine!!!! Xo',\n",
              " '@mention florida? send me some sunshine and vitamin D, willya?',\n",
              " '@mention this is just the best weather EVER! ;)',\n",
              " 'Severe Thunderstorm Watch for Harrison, Henry, Johnson, Lafayette and Linn County in MO until 12:00am. Updates as needed from Bryan Busby',\n",
              " 'Currently in Milwaukee: Thunderstorm, 80&deg; Full forecast: {link}',\n",
              " 'Getting ready for Pole Day for @mention  @mention. Hopefully the weather will cooperate today.',\n",
              " \"see, the weather doesn't even want them to get married 2day! Haha gosh they can't wait .\",\n",
              " 'man aint no way its this fuckin hot outside',\n",
              " 'What you need when traveling to a cold weather climate - {link}',\n",
              " 'Are thunderstorms one of the signs of the end?',\n",
              " \"@mention - ..are you? And how is the weather in NY right now it's getting cloudy here, How is your family? I have been posting my ..\",\n",
              " '#WEATHER:  5:52 pm : 88.0F. Feels F. 29.70% Humidity. 15.0MPH Southwest Wind.',\n",
              " 'Loving this weather today #springhassprung....Makes me happy!',\n",
              " 'Goooo Biiiiig Reddddd! Nebraska is #1... on the weather map. Hottest place in the country today. York even topped the century mark!',\n",
              " 'Yes: 54th Annual Des Plaines #Canoe & #Kayak Race RT @mention: Good thing you were there for windy paddling event @mention',\n",
              " 'Valley humidity hits rare lows: Wednesday was as dry a day as there ever has been in the Valley of the Sun. {link}',\n",
              " 'RT @mention: Spring snow on baby aspen leaves at Beaver Meadows Visitor Ctr this morning {link} West side got snow too ...',\n",
              " 'Thunderstorms while your sleeping = Perfect & relaxing soO happy right now :)',\n",
              " '#WEATHER:  5:54 pm : 78.0F. Feels F. 29.65% Humidity. 11.5MPH South Wind.',\n",
              " 'A rainy day at the farmers market :/',\n",
              " 'Found observation deck at bwi. Thunderstorm has backed up all the flights. Waiting for my son to land, kinda cool!',\n",
              " '..Who woke up at 7am today, looked outside, and thought it was gonna be a lovely sunny day?? Put your hands up... [puts own hand up] :-*',\n",
              " '@mention \" There is no reason for you to be driving 30mps in normal weather conditions with no one in front of you -_-\"&lt;&lt; bad breaks',\n",
              " \"So I can't breathe outside. It's tOO hot !\",\n",
              " \"good morning, it's sunny, pick up new car and then off to Wilton house near Salisbury i think\",\n",
              " \"@mention haha yeah, i can pretend it's mono for you! And really, what up weather? haven't seen the sun since friday.\",\n",
              " 'Wow what a day, it went from 83 degrees down to 44 degrees with rain.',\n",
              " 'RT @mention: Developing: Trained weather spotters reported a tornado on the ground 8 miles SW of Presho, SD, moving NE at 15 mph ...',\n",
              " 'Molding the werewolf mockups teeth today. Planning to cast in acrylic. The humidity might be an issue for the silicone though. hmmmmm',\n",
              " 'DAY 142: Its beach weather!! Check out Wrightsville Beach!!{link}/ {link}',\n",
              " 'i love how its cold and raining in the morning, then during the day its sunshine and a cool breeze -.-',\n",
              " 'M0ZIF QTH Weather 21:00 18.8&#xB0;C 62 pct 3.8 mph E {link}',\n",
              " \"'@mention Good. Need a lot more coffee and a lot more sunshine, but life is good. Grateful for everything. You?\",\n",
              " \"Turned out just perfect! Thanks @mention! RT @mention: Off to a @mention shoot with @mention. Weather's going to comply!\",\n",
              " 'My puppies were born today :D Chachi @ 3:50 pm, Momma @ 2:35 pm on May 7, 2011 on a rainy day in Ewa Beach, Hawaii. @mention',\n",
              " 'We are closed today due to the weather!',\n",
              " 'With weather like this it makes me really happy to know I have some kill ass green',\n",
              " 'Special Weather Statement issued May 05 at 1:16PM EDT expiring May 05 at 1:50PM EDT by NWS Burlington {link}... {link}',\n",
              " 'Parts of Tenn., Ky. Under Risk For Severe Weather {link}',\n",
              " '@mention Ugh no way! We got 30 inches of snow a few months ago and I about died. #hatethecold',\n",
              " 'A boo for er\\' occasion RT @mention: So this weather is not playing huh? Let me call my \"stormy weather\" boo over...',\n",
              " '@ 6:00 PM-clear 80.9F Hum-46&#x25;  Wind-12.1 WNW Rain-0.00 #TinleyPark #weather',\n",
              " '@mention I think they have some of those around too. Went home though, too windy',\n",
              " '@mention told you so the desert weather does not like pink cars',\n",
              " 'RT @mention: What happened to that 80 degree weather we was just having',\n",
              " \"You're like ice cream on a sunny day, I'll eat you before you melt away. #brunomars\",\n",
              " \"Have good friends in OK not happy about the weather reports there! I hope they'll be safe! God bless you Lorri, Bre,4 legged family! luv ya\",\n",
              " '@mention Hamptons are great, always clean and VERY comfy. Enjoy the race. I was thinking of going..but the weather forecast scared me.',\n",
              " 'boy yu know it gets no better then this...like sunshine on a rainy day.',\n",
              " '* Found something to do today if it was sunny but the rain had to ruin that.. LOL',\n",
              " 'Birmingham Business News - Wells Fargo contributes another $100K to storm relief {link}',\n",
              " 'Nice weather to start the week, with highs near 70 in parts of the region, says @mention: {link} #ctweather',\n",
              " 'Beautiful day in chi city. #sunshine',\n",
              " '@mention Enjoy the best weather Boston has to offer!',\n",
              " \"My perennial prickly pear isn't looking so good. It's been so cold and rainy that I'm a little worried... I sure... {link}\",\n",
              " '@mention Sunshine feels so good! Even better w/ friends + a pool!',\n",
              " 'Skycam is showing us miles of gray skies...  brr!  What happened to our warm, sunny springtime?',\n",
              " '@mention its such gross weatherr it needs to be either stormingg or bright and sunny not in between!! Ya knoww what i meann?!?',\n",
              " '#Thunderstorm waking me up and nonsense. Hopefully the rain can help put me back to sleep..',\n",
              " '@mention Glad the weather is turning for the better out there',\n",
              " 'Tired from our bike/run brick workout tonight! So windy at the veloway.',\n",
              " 'The Ducks are even Playing in the snow Photograph Awesome Picture to frame & place on your wall {link} at Bonanza.',\n",
              " 'Sunshine. John mayer. Pool. Friends. Could today get any better?',\n",
              " 'tired of all dis #rain',\n",
              " \"@mention MSNBC was showing the OK weather people's coverage. The weather guy's and storm chaser were running out breath.\",\n",
              " '#WEATHER: 9:54 pm E: 71.0F. Feels F. 29.84% Humidity. 11.5MPH East Wind.',\n",
              " '@mention just get ready for the sonicfag storm that inevitably comes.',\n",
              " 'YouTube - Tough Mudder Mt Snow VT, Team Fitcorp, Race Start      {link}',\n",
              " 'RT @mention: #FF on a sunny day @mention @mention @mention @mention @mention @mention @mention @mention @mention',\n",
              " 'Another 100 degree weather day #Az',\n",
              " \"@mention @mention @mention @mention it's nice and cool not rainy!\",\n",
              " \"Jackie got mad cause I said when don't it storm in Pittsburgh lmao\",\n",
              " 'Dear Atlanta weather, we need to hv a lil one on one...',\n",
              " 'Loving the Canyon {link} #Grand Canyon #views #snow dusting #visit',\n",
              " \"RT @mention: It's mid May and my faux fireplace is cranked because I'm freezing. The world is definitely ending on Saturday.\",\n",
              " '@mention at least we got to see a week full of sunshine before ending our pathetic existence :)',\n",
              " '@mention &gt;&gt;&gt; I know right! I have a graduation to go to! It needs to stop..but at least its not cold and rainy..lol',\n",
              " 'Moms Rely on WeatherBug for Severe Weather Safety, Daily Planning and Keeping ...: GERMANTOWN, Md.--(BUSINESS WI... {link}',\n",
              " \"If you can read, you should read see the SI article on Tuscaloosa. Whether you were affected by the storm or not. It's very powerful.\",\n",
              " 'This storm bout oc',\n",
              " \"Jedidiah's eatin grass, must be a storm comin.\",\n",
              " 'This rain came out of no where! #weather #desmoines',\n",
              " 'Fuck sia the weather really a killer, if only it could burn all the fats; everyone would be happy trololol',\n",
              " 'RPT-Wall St Week Ahead: A storm gathers over equities markets {link}',\n",
              " 'Enjoy your yoga running grrl =) RT @mention: I am heading to yoga soon, beautiful day here in Big D--thanks for sending your weather to us!',\n",
              " \"Too soon... RT @mention: I want to make a joke about a THUNDERstorm in Memphis, but I think they're already drowning...\",\n",
              " '#lesonOfTheDay ALWAYS Look At the Weather / News Bcuz curLedd Hairrr , Shorttts , TankToppp , SandaLs Dnt Work When its #RAiNING (x',\n",
              " \"@mention I'm over these storms. It's all fun & dandy the first round, but after that, I'm through. Much like snow really.  :/\",\n",
              " \"This the type of night time weather I've been waiting for :)\",\n",
              " 'Hurricane Expo this weekend and all the TV stations are here this morning even my favorite weather guy from Fox, Dave Osterberg.',\n",
              " 'Rainy days are perfect for laying around and watching movies all day :)',\n",
              " 'Going to enjoy the sunshine today.  Too nice outside to tweet.  Ooh, wait, I just did!!  #denver',\n",
              " 'Severe Thunderstorm Warning for Tunica County in MS until 2:30pm. {link} #mswx',\n",
              " '...THE NATIONAL WEATHER SERVICE IN RIVERTON HAS ISSUED A FLOOD WARNING FOR THE FOLLOWING RIVERS IN WYOMING... SALT RIVE {link}',\n",
              " 'Man its hot as fuck outside!!',\n",
              " 'Windy outside! Not sure what day to give pepsi a breack this week :/',\n",
              " 'Snowing just a tad in Bend. I prefer snow to rain, even if it is May.',\n",
              " \"@mention Terrible weather news. My husband did insurance group enrollment @ Joplin Hospital says it's huge facility now rubble. Sad.\",\n",
              " '\"ALL-TIME RECORD LOW HUMIDITY IN PHOENIX TODAY! 2% REPORTED AT SKY HARBOR...which reminds me to remind you of the... {link}',\n",
              " '...THE NATIONAL WEATHER SERVICE IN ELKO HAS ISSUED A FLOOD WARNING FOR THE FOLLOWING RIVERS IN NEVADA... FOR THE MARTIN {link}',\n",
              " '#Tigers game weather {link}',\n",
              " 'RT @mention: The National Weather Service in Norman, Oklahoma has been evacuated due to severe storms. Workers taking shelter. - ...',\n",
              " 'beautiful sunny day in st louis',\n",
              " 'However, models are consistently at least getting my attention for storm potential the week of the 23rd... watching... #tristatewx',\n",
              " 'New Alert... BOI issues MAJOR WEATHER CHANGE COMING for  West Central Mountains, Lower Treasure Valley, Boise Mo... {link}',\n",
              " \"May Martini of the month for Roxy: Spring Fling! Perfect for the nice weather we've been having: Bacardi Melon... {link}\",\n",
              " '#Rapture forecast, 76 degrees and mostly sunny!',\n",
              " \"Good Mornin, peeps. I'm awake and at work. I would like to note it's still hot outside too. Someone turn down the temperature? ;P\",\n",
              " 'RT @mention: I hope this weather stays like this for a while',\n",
              " '=) how are you on this sunny day =) RT @mention: @mention good morning pretty mama',\n",
              " 'RT @mention: Wish I was back in sunny Brighton with @mention for @mention #boredasfuck {link}',\n",
              " \"I rather it be winter time than this goddamn heat. Big boys don't do well in this weather\",\n",
              " '#WEATHER:  10:53 pm: 49.0F. Feels 45F. 29.91% Humidity. 10.4MPH North Wind.',\n",
              " '@mention smh Memphis weather STUPID',\n",
              " 'RT @mention: In the hood in the summertime. Its the killing season \" its hot out in this bitch that\\'s a good enough reason \"',\n",
              " \"It's sooo cold out at bradys game had to go in the car brrrrr!!!\",\n",
              " 'Norfolk...wats goin on w\\\\ the weather? Goes from cloudy 2 sun bk 2 clouds. #imconfused lol',\n",
              " \"Patio is open, sun is out, it's warm, and we have bottomless mimosas and beermosas for $8! Stoneys bar and grill  1111 lincoln\",\n",
              " 'RT @mention: Sun is shining, weather is sweet. doon@mention 05.25.11 {link}',\n",
              " '@mention wow, its gunna snow on wednesday lol',\n",
              " \"@mention I hope it doesn't thunderstorm on u guys! Ay ay ay! See ya tonight para cinco de mayo!\",\n",
              " 'Outrunning some weather on the Sassafras River. Brought the sail down and cranked up the motor. Chilly adventure and a liitle crazy.',\n",
              " 'Wow, freezing cold weather and rain for my first art show. :( It was rough, but I still feel good about how we did with such a low turnout!',\n",
              " \"@mention I'm not related to him, but I know him from storm spotting for my county.\",\n",
              " 'should I head home before this storm takes over the city?',\n",
              " 'rainy day writing papers eating burritos in bed making my new bike shiny thinking about how awesome my friends are and game of thrones, cool',\n",
              " '@mention Anyone who says sunshine brings happiness has never danced in the rain.  ~Author Unknown',\n",
              " \"@mention you're welcome Don! I've heard about all the damage and devastation :( we had a doozy of a storm this week ourselves\",\n",
              " '@mention i love thunderstorms bring it here please',\n",
              " 'Praying for everyone affected by the tornadoes. Seems like the weather has gone into overdrive. Stay safe if they are in your area.',\n",
              " 'Record LOW humidity in Phoenix today:  {link}',\n",
              " '@mention I love the hot weather.  Were you affected by all that rain',\n",
              " 'Also, the new WHY? @mention session is the perfect rainy day shit. @mention Get into it or else.',\n",
              " 'Belgian waffle + fries for lunch, movie being filmed downtown + by office, beautiful and sunny out, all in all a great friday the 13th!',\n",
              " \"Provided the rain holds off for kids' soccer games, this is perfect weather. T-shirt & shorts or jacket & long pants, comfortable regardless\",\n",
              " 'Quick preview of tonights session with incredible people, incredible weather and SUN, green grass, things are... {link}',\n",
              " 'Went from 80 degree weather and $3.49 gas..to 50 degree weather and $3.90 gas smh #fail',\n",
              " 'Holy moly:  RT @mention: [video] Piotrowski Storm Chasers  tracked the Joplin Tornado through the city of Joplin, MO: {link}',\n",
              " 'Aww no whats wrong RT @mention: In bed......under the weather :(',\n",
              " 'Paul: \"We don\\'t have the 1st Amendment not to talk about the weather\" Right on. \"I DON\"T WANT TO USE HEROINE I NEED THESE LAWS\" #SCDebate',\n",
              " \"BEAUTIFUL WEATHER T BE IN BED!!!!BUT MY RACE IS T RAISE MONEY FOR DIABETICS N CANCER!!!!SACRAFISES!!!!'\",\n",
              " '#WEATHER:  2:53 am : 61.0F. Feels 61F. 29.98% Humidity. 4.6MPH Northeast Wind.',\n",
              " '@mention Aw yes. The storm shadow. Is there a stillness that goes with that?',\n",
              " 'why is the iPhone weather app NEVER right?',\n",
              " \": let's face it - Monday's are much easier to accept when they are sunny! Have a great day today and we'll be... {link}\",\n",
              " 'New severe thunderstorm warning in  effect for the Little Rock metro area #ARWX',\n",
              " '@mention I would have expected nothing else from you. *Hugs*  Be careful, more bad weather is in store for your area!',\n",
              " \"Wow it's freezing outside\",\n",
              " \"Tornado Warning for Lancaster and Saunders Co's. Storm 6 miles NW of Ashland near Memphis..if you are near this area take cover.\",\n",
              " 'Hope that storm stays north so I can go back to sleep!!',\n",
              " 'beautiful day today...finally the weather in Minnesota is turning around',\n",
              " '#WEATHER: 11:52 pm : 51.0F. Feels F. 30.13% Humidity. 0.0MPH North Wind.',\n",
              " 'cloudy, cold, windy, grey, now typical Oregon day!  :)',\n",
              " 'Wonderful weekend @mention - great people, delicious food, beautiful weather. Thanks everyone! #EWR11',\n",
              " \"You're out climbing or hiking in the mountains and see a lightning storm brewing. What do you do to be safe? Her...  {link}\",\n",
              " 'Event cancelled. Severe Thunderstorm Warning from 5/10/2011 6:50 PM to 7:00 PM EDT for Wayne Co... Read more at {link}',\n",
              " 'Severe Thunderstorm Warning issued May 10 at 5:15PM EDT expiring May 10 at 5:45PM EDT by NWS Wilmington {link}... {link}',\n",
              " 'rainy start to the staycation...good excuse to head to @mention to watch Forks over Knives!',\n",
              " \"I know the weather is hot and Summer is just around the corner, but we've already started to dream of Fall... {link}\",\n",
              " \"Daily_Press: Today's Weather: 70/53 Clouds rolling in with chance of showers Friday evening, into the weekend... #hrweather #vawx\",\n",
              " \"RT @mention: Couldn't have been better weather for Bay to Breakers. (Still this gorgeous out, too!) {link}  {link} ...\",\n",
              " 'RT @mention: Rob McEntire,a mainstay of NMpls, has died helping his neighbors clean storm debris.  Please honor his memory and what ...',\n",
              " '@mention its cold and rainy here! Plus downtown is crazy with roads closed due to marathon!',\n",
              " '@mention Play in the sunshine? *looks outside* *uses downtime to build ark*',\n",
              " '74.8F (Feels: 74.8F) - Humidity: 94% - Wind: 3.8mph SSE - Gust: 6.9mph - Pressure: 1011.2mb (+0.1)  #weather {link}',\n",
              " 'Just realized why all Jews live on the coasts--that mid-west humidity makes a Jewfro grow too large for human contact. #jewishgirlproblems',\n",
              " 'Ok so now weather getting nice, I will do Model Bootcamp just for @mention',\n",
              " \"it's a rainy Thursday, but the studio is in full swing!\",\n",
              " 'RT @mention: If you read fan fic I beg you to check out @mention, awesome compilation just for helping storm/flood victims!  ...',\n",
              " 'Another cold and rainy day? Really May?!',\n",
              " \"Dear office building, it is just barely 60 degrees outside. Maybe let's tone down the A/C hmmm??\",\n",
              " 'Daily Joke: Jack was living in Arizona during a heat wave when the following took place.\"It\\'s just too... {link}',\n",
              " 'Weather 30045',\n",
              " 'The St. Vrain River just a short bike ride from the house. Lots of snow this winter. #fb {link}',\n",
              " 'RT @mention: why do thunderstorms make people horny?',\n",
              " '@mention @ tha weather.',\n",
              " \"Dear thunderstorm, I hope you come my way. You'll be a little more exciting than this game...#RSL.\",\n",
              " 'Hopefully all of the nasty weather has moved out so everyone can enjoy a little diversion {link}',\n",
              " 'even tho this weather is fucced up ,,its keepin me calm love it :)',\n",
              " 'Perfect pool weather too :)',\n",
              " \"nice RT @mention In time for warm weather: a searchable database of Chicago farmers' markets by name, day, hood: {link}\",\n",
              " 'Tracked a good 8.7 miles. Def digging the San Antonio weather tonight. #GumpMode. Shower then getting back to some writing on the Beast.',\n",
              " 'Thiss Shitty Ass Weather Gets On My Fuckingg Nerves #IHateTheSpringg',\n",
              " \"@mention Wow that *is* a lot colder.  We'd call that winter weather here.  Running swamp cooler today in Phoenix.\",\n",
              " 'RT @mention: It is now a typical Sunday at The Players.  Huge, excited crowds and plenty of sunshine.  About half of the... {link}/ ...',\n",
              " 'Why is it that it feels like it is 142 degrees outside?',\n",
              " '@mention  Hey, it works! I am blogging while Greyden is out in the hot sun... I think it was worth the dollar.  :D',\n",
              " \"@mention  A bit chilly for swimming - hope he doesn't fall in!\",\n",
              " '#WEATHER: 1:53 am C: 65.0F. Feels F. 29.91% Humidity. 3.5MPH South Wind.',\n",
              " 'rain, hail and sun...this is crazy weather but a great day on the river?!?!',\n",
              " 'Gardner WX 05/14/11 04:30 AM | 46F, 72&#x25; Humidity, Feels Like 46F | Alerts: NO CURRENT ADVISORIES | {link}',\n",
              " \"We'll do what we can? RT @mention: @mention can you bring us perfect running weather on race day please? Thank you. #runcolfax\",\n",
              " 'The weather does not get more perfect for an afternoon walk!',\n",
              " \"It's hot as hell outside little skater boy. Why are you wearing all black? And more importantly why are you wearing skinny jeans?\",\n",
              " '@mention its so hot outside its only gonna make me sweat more!!!',\n",
              " \"@mention I know. I'm glad we went yesterday. I'd go if it wasn't gloomy out. It's not rainy but...idk, doesn't seem like a good idea.\",\n",
              " '@mention all this talk of Rain in the Colobrahdo and its sunny as shit where I am',\n",
              " 'Severe Thunderstorm Warning issued May 21 at 11:14PM CDT expiring May 22 at 12:00AM CDT by NWS Dallas-Fort Worth... {link}',\n",
              " 'Why does Evansville feel like you are walking through a sauna. The humidity is crazy.',\n",
              " \"Love how my weather app says there's a 0% chance of rain....and it's raining outside. #notcool\",\n",
              " '#SantaFe Forecast for Tonight: Partly cloudy. Windy. Isolated showers and thunderstorms in the evening...then is...  {link}',\n",
              " \"@mention Someday when it's not cloudy/raining/freezing outside, we should lay out and tan and drink something cold :)\",\n",
              " 'Rainy night wish LP was her to cuddle!!! Ugghh!!#freemysoldier#',\n",
              " \"I'll praise you in this storm(:\",\n",
              " \"This weather describes everything I'm going through right now...dark & gloomy\",\n",
              " 'Floods (Facts on File Dangerous Weather Series):  {link}',\n",
              " '2011 weather pattern similar to the year of the deadly Fargo tornado {link}',\n",
              " 'RT @mention: TORNADO WARNING N central TX TORNADO NEAR SAGINAW...MOVING EAST SOUTHEAST AT 40 MPH.  SOFTBALL SIZED HAIL {link} ...',\n",
              " 'RT @mention: i Hate whenn i Get out the shower & my window be open in my room. i be Freezing !',\n",
              " \"Fuck I'm starting to lose my voice. Not gonna stop me (unless it drops completly) fuckin weather changes\",\n",
              " '@mention @mention playing at Fenway Park for the first time since 1918. Great Baseball history Wish the weather was nicer',\n",
              " \"RT @mention: Just over an over until 6.4: The Doctor's Wife...trust us...you WANT to see it! Forget sunshine (if you have it), forge ...\",\n",
              " 'Gardner WX 05/20/11 11:00 PM | 65F, 81&#x25; Humidity, Feels Like 65F | Alerts: NO CURRENT ADVISORIES | {link}',\n",
              " '@mention jajaja como yo entonces yo juego a todo..jaja snow,futbol,basquet correr jaja tenis pin pon no paro en to el dia..jaja',\n",
              " 'Now Playing on OCNJRadio.com: NWS - Washington-Baltimore Weather Forecast',\n",
              " 'RT @mention: Sunshine I send to U @mention. In my thank U fir Mentions!&gt;Thank you Doll!  :)',\n",
              " \"It's nothing like soon as you walk outside ur home, your are greeted w/ bright bule skys and sunshine. Luv livn in Miami!\",\n",
              " 'Phoenix &amp; Arizona weather: Cool, but nice! {link}',\n",
              " 'Awww man this is sex weather....too bad he at work lls.',\n",
              " '#IfYouMarryMe your paycheck is yours to spend how u please... but I do expect u to have some money saved up for a rainy day !!',\n",
              " 'RT @mention: Wife emailed this photo of San Marcos HS as storm rolled on this morning.  {link}',\n",
              " 'Freezing but great to see my St. Louis Cardinals win! =)',\n",
              " 'We will have a (mostly) dry week this week. Plenty of sunshine and temperatures in the 60s and 70s through Friday.',\n",
              " 'Laying in the sweet sunshine:)',\n",
              " '@mention enjoying this great weather while it lasts! Where are you at?',\n",
              " 'Its May. It should not be this cold outside.',\n",
              " \"its a sunny sunday in seattle... surprising, but i'm not doing as well as i want in voc rehab {link}\",\n",
              " \"Gorgeous weather decent dolphin bite can't ask for much more!\",\n",
              " 'Have all my windows open during this wonderful, spring storm. I love the smell of rain.',\n",
              " 'Back in #usa after a week in the caribbean. #network #sunshine',\n",
              " 'Rainy day... Probably staying in bed all day',\n",
              " \"@mention lol true...but I gotta get outta here...I'm a down south weather type a nigga lol\",\n",
              " 'RT @mention: Weather man on the TV says the country is running dry and we have only had 10% of normal rainfall over last 3 months.  ...',\n",
              " '@mention  :)  Great things are happening today!  Beautiful weather here in SC & just about to head to the infield @ Darlington.',\n",
              " 'Gardner WX 05/16/11 10:30 AM | 70F, 43&#x25; Humidity, Feels Like 77F | Alerts: NO CURRENT ADVISORIES | {link}',\n",
              " \"What a picture perfect day here in Coeur d'Alene!  Anyone else out enjoying the sunshine?\",\n",
              " '@mention weather update in Col. RT @mention: I take it all back. Pouring now. In fact, almost snowing. Yuck',\n",
              " '46 degrees. grrrrr.',\n",
              " \"@mention I'm ok :) how are things in sunny California?\",\n",
              " '#United States #Wisconsin #Williams BayRutgers graduation will go on, despite the weather - The Star-Ledger - NJ.com',\n",
              " '@mention It was GREAT! Weather was perfect! Stayed in Miami Beach in Hotel Victor right on Ocean Dr. Could see the beach from the room.',\n",
              " 'Took the jet skis out yesterday and today on Lake Mead. Had a blast even though it was windy with choppy waves. Bring on Summer!!!',\n",
              " 'What beautiful weather for baseball. Found a beer and our seats. Ready to enjoy seeing the WS Dash beat the Salem Red Sux. #godash',\n",
              " 'Why is it always bright and sunny on Thursday aka the day we have speed and agility? @mention but it rains when we wanna party smgdh',\n",
              " 'Lovely weather finally...riding of course #2wheels&gt;4wheels',\n",
              " \"designing a children's garden for a client today....45 degrees and rain!\",\n",
              " \"Maui Weather/Surf LiveCams -Tues., May 24th - Ho'okipa Beach Park / North Shore Maui {link}/ {link}\",\n",
              " 'Galifianakis and Cooper -- Weathering the Storm',\n",
              " 'Why is it so cold OUT FREAKIN SIDE IT suppose to be HOTLANTA not Colorado',\n",
              " 'RT @mention @mention SOUL SNIPPET: \"We could all take a lesson from the weather. It pays no attention to criticism.\" @mention',\n",
              " \"K, it's gonna be chilly and rainy again tomorrow. H&M Cardigan? I think sooooooo:)\",\n",
              " '@mention thanks for sending some sunshine my way.',\n",
              " 'Proud to have done my small part for the ERA effort today,nothing better than standing up for equality on a sunny Saturday afternoon',\n",
              " 'Small trees w/strong roots, which will happen w/proper water and care RT @mention: Any trees that might weather a storm?   #treechat',\n",
              " 'Clerk in the store said \"hey, if you don\\'t like the weather here... Wait a few minutes...\"',\n",
              " \"The office's out of town guests are goig to ge a great KC welcome hot in early May! geez what happened to springtime?\",\n",
              " 'The breeze of this weather is so amazing. I love running.',\n",
              " '@mention weather was not too bad. Dealable',\n",
              " '@mention come play in the #PDX sunshine! #roguebrewery uses frisbees for plates. dare you to leave your number on one of those.',\n",
              " 'I love thunderstorms so much :)',\n",
              " 'I know rain is important and God gives it to us...but, rainy days are kind of torture for anyone who is with kids all day long...#letmeout!',\n",
              " '\"@mention: So wats the weather gonna B like this week...HottT\" &lt;= lls',\n",
              " 'This weather is too pretty for my camera to be tucked away in its box. Nature is Beauty.',\n",
              " \"@mention I really do! I miss aspects of home- i.e. Lovely beaches, guaranteed beautiful weather, delicious food that I don't have to cook\",\n",
              " \"It's fucking hot outside! #FuckFlorida\",\n",
              " 'aint shit changed but the weather, my outfit, and my attitude. fuck with me',\n",
              " \"@mention Oh, so lovely! The brooding weather and landscape. Where in Scotland (actually don't have to tweet it)? Have a grand visit.\",\n",
              " 'This thunderstorm is out of control. #scared',\n",
              " \"Welp, it's right back nippy out here,  gotta luv StL weather\",\n",
              " \"Finally some good weather so let's rock!\",\n",
              " 'Significant Weather until 03:45 PM Friday issued for Knox, Loudon, North Sevier & NW Blount Counties. {link}',\n",
              " \"It's 80 and sunny. If this is the #rapture I'm in!!!\",\n",
              " \"Well it's 80 degrees and sunny in Oregon right now. #Lies RT @mention : I don't think I'm use to this Texas heat anymore!\",\n",
              " 'Outside: 53.5 F, Humidity: 92%, Wind: (331) 5 mph, Press: 29.75\", Rain: 0.15',\n",
              " 'Is it that bbrrr? RT @mention: So not dressed for this weather. Bbrrrr!',\n",
              " 'Its Gona B 82 Degrees 2Day\" #HellYea',\n",
              " \"@mention I tryed my best to enjoy this weather for u... but it just ain't the same.! LOL :)\",\n",
              " 'RT @mention: What are you doing for World Cocktail Week? 5 places to celebrate in rainy Salt Lake City #SLC {link}  ...',\n",
              " 'Current Newport, RI 02840 Weather Forecast - {link}',\n",
              " 'Birmingham forecast: increasing clouds tonight, sunny and a high near 91 for Monday {link}',\n",
              " 'RT @mention: TORNADO WARNING NE OK  3 MILES NORTHWEST OF WAGONER...MOVING NORTHEAST AT 55 MPH. {link} for HD weather ...',\n",
              " \"Happy Mother's Day! It's lovely weather in #BTV, get out and have some family fun today.\",\n",
              " \"Sad our event at peppers got rained out today, but tomorrow will be sunny and we'll see you there!\",\n",
              " \"A cold and rainy day: I'm thinking Hitchcock marathon.\",\n",
              " 'BBQ this afternoon of the weather stays fine',\n",
              " 'That was a bright and loud one to the SSW... #weather',\n",
              " \"It's suppose to get up to 90 degrees today. That's how you know you're in the Sunshine State!\",\n",
              " '@mention yea been rainy here and for the next couple of days',\n",
              " \"So you know how we moved to CA and I thought it was going to be sunny and hot and lovely all the time? It's not getting over 70 for 10 days.\",\n",
              " 'Is it suppose to storm again tonight???',\n",
              " \"It's hot outside.\",\n",
              " 'Forecasted inclement weather is forcing us to reschedule Friday clients up one day to Thursday. If both days a wash, will move to Monday.',\n",
              " \"RT @mention: So glad that the snow didn't come until after we finished filming #death_canyon. It was awesome :)\",\n",
              " 'RT @mention: Unexpected, but beautiful. RT @mention: Blue sky, Green trees, white snow. #yosemite {link}',\n",
              " \"RT @mention: it's hot as fuck outside\",\n",
              " 'The weather is beautiful in south Africa today!!  I have yet to find a tiger fish though. Moving areas in a couple days',\n",
              " \"@mention it's too windy out anyway\",\n",
              " 'Playing ladder golf on this 70 degree sunny day while listening to @mention. Life is so good',\n",
              " 'Thought the weather would be a little nicer. Oh well the Gateway is still nice.',\n",
              " \"RT @mention: Ain't no Heat the Windy City tonight #mvpwave D.Rose\",\n",
              " \"Tornadoes, floods and storms... U.S. is hit by five billion-dollar weather disasters in a year (and it's only May)  {link}\",\n",
              " '@mention Vegas is awesome so far...95 degrees today',\n",
              " 'Looks like its going to be chilly all week, do you have a hat to keep you warm?',\n",
              " '@mention the weather itself is horrific besides the summer.',\n",
              " \"RT @mention it's fucking hot outside!!! .right! Picture running at this moment .\",\n",
              " '@mention miss you more. The weather is like summer here. High of 77 today',\n",
              " 'Just hold a nigga down, thru this bad weather ....',\n",
              " 'The Ouroboros effect of cliches: CNN banner proclaims \"Perfect Storm of Severe Weather.\" Has no one using \"Perfect Storm\" read that book?',\n",
              " \"Note to self... Please close sunroof so you don't burn your arm on your armrest that is now 200 degrees\",\n",
              " 'Wow what a weekend here in #Annapolis I spent a bit to much time on the Bay & have a bit too much sun to show 4 it but the weather was great',\n",
              " '...SCATTERED THUNDERSTORMS DEVELOPING ACROSS WEST TEXAS AND SOUTHEAST NEW MEXICO WILL BE CAPABLE OF PRODUCING DRY LIGHT {link}',\n",
              " \"Walk done well windy on mam tor.  Did my usual and fell over and whacked my head... Good job it's empty...\",\n",
              " 'Car show!! Lovn the hot weather already',\n",
              " 'ooooh lightning! #thunderstorms #almostsummer',\n",
              " 'Pleasant start to your Mon w/ seasonal temps. Increase clouds & storm chances this afternoon w/ mid 70s for highs. Storms could be strong',\n",
              " 'Loving this beauitful chicago sunshine!',\n",
              " 'Storm',\n",
              " 'Tied As Fuck Mane! Its Too Hot Outside 4 Dis Shit',\n",
              " 'RT @mention Severe Thunderstorm Warning until 04:30 PM MDT issued for Kit Carson-CO & Yuma-COhttp://bit.ly/cRbyCg',\n",
              " \"RT @mention: #SUNNY LOVE TO YA'LL ~*~  @mention @mention @mention @mention @mention @mention @mention ...\",\n",
              " 'I love this lack of humidity. It is SO nice.',\n",
              " \"@mention Rainy and wet here. I'm tired today. Was it just a long day? Pretty late for you to be just getting home, isn't it?\",\n",
              " 'Chilly morning! Bring on 11am',\n",
              " 'I recommend checking out the HOT new single by the awesome band Alice Avenue @mention    GO HERE==&gt;  {link}',\n",
              " '#WEATHER: 7:54 am E: 49.0F. Feels 44F. 29.82% Humidity. 12.7MPH West Wind.',\n",
              " 'My classroom right now is freezing. Hard to write and tweet. #thisiswrong',\n",
              " 'Good thing the weather in houston is rocking right now.',\n",
              " 'Beautiful weather in Chicago for International Female Ride Day! (But you should ride every day...) {link}',\n",
              " 'Let the puns begin: Flying bacteria to blame for bad weather, scientists claim {link}',\n",
              " '@mention Nice!! Good job! All in time to enjoy some warm weather. :)',\n",
              " 'loving this #thunderstorm',\n",
              " \"After riding my bike along Newport Beach I'm wondering, why does ocean air smell different in Calif than Guam? Less humidity? Less floral?\",\n",
              " \"#moodkiller when it's freezing outside\",\n",
              " 'RT @mention: Finally got some sun out here in Northern Califoolya this weather be bipolar sometimes i wish it would make up its mind',\n",
              " 'Enjoying the weather outside. Having a drink. Listening to some Tejano music.',\n",
              " 'Still no power. Fridge and freezers lost. Should have bought natural gas whole house generator after ice storm. Oh well.',\n",
              " \"RT @mention: The skies gone a funny colour... looks like we're in for a storm! (Or THIS is the end of the world.. A DAY EARLY)\",\n",
              " 'We are Stretched out looking hot!! @mention @mention  {link}',\n",
              " '3.5 inches of snow overnight in Grant Village, Yellowstone. East Entrance closed this A.M.',\n",
              " '...SMALL STREAM FLOOD ADVISORY FOR RAIN AND MELTING SNOW REMAINS IN EFFECT FOR STAR VALLEY IN NORTHWESTERN LINCOLN COUN {link}',\n",
              " 'Just posted a 10.10 mi bike ride - Raining outside, but sunny and warm inside. {link} #RunKeeper',\n",
              " 'Weather time!!(:',\n",
              " 'Deltona, FL: Dry @ 06:00 AM, Temp: 65.1&#xB0;F, Hum: 90 pct, Baro: 29.830 .in and Steady, Wind: SE @ 0.0 mph, Rain: 0.000 in..',\n",
              " '#WEATHER: 3:53 am C: 66.0F. Feels F. 29.86% Humidity. 4.6MPH South Wind.',\n",
              " \"Interesting weather... Raining in the backyard and sunny in the front of the house. I'll take it!\",\n",
              " 'Sunshine and studying. #cantwaittobedonewithfinals #TWODAYS',\n",
              " 'RT @mention: RT @mention: My golden rule: if I get hit by debris, I quit driving toward the storm.',\n",
              " \"OH WOW it's black outside and we're only in the green zone, we're gonna have a huge fucking storm here soon....\",\n",
              " 'I need a blizzard. #swee?',\n",
              " '75 degrees and Brooklyn never been so prefect... {link}',\n",
              " 'rainy day = CRABBY KIDS!!!!!',\n",
              " 'On our way to Mason city for my cousins wedding #hungover #rainy',\n",
              " 'Had a great weekend thanks to the sunny weather. Now I have to sit inside for 8 hours at work. Boo!',\n",
              " 'SEVERE WEATHER ALERT: The National Weather Service has issued a Severe Thunderstorm Watch until 3 pm for much of... {link}',\n",
              " \"@mention is was close to 90 and sunny and beautiful all day today #poolparty #ElPasoweather #thingsthatdon'tsuck\",\n",
              " \"@mention yeah i'm in japan now. and I hate the weather now days...\",\n",
              " 'Good open house at Quail Oak today. The great weather got lots of folks out looking.',\n",
              " 'It 87 degrees and the sun is out all i need no is my baby girl and a beach',\n",
              " '@mention uhoh I bet the plane is not going to like the weather up here...',\n",
              " 'SPSRNK from 5/18/2011 2:25 PM to 3:00 PM EDT for Greenbrier County: THUNDERSTORMS WILL AFFECT G... Read more at {link}',\n",
              " 'RT @mention: Enjoy the nice weather this evening & make the most of play - Physical activity tips for kids via @mention ht ...',\n",
              " 'NWS: Another storm is expected tonight and rain showers could continue tomorrow morning before diminishing through the day. #HermosaBeach',\n",
              " '@mention hoping you had a great afternoon...walk the dog...take in the sunshine...have a glass of red...(can be done in any order)',\n",
              " 'How we gna have good weather one day, then shitty weather the next? fuk #mothernature',\n",
              " \"Ready to take this week by storm (or whatever, I'm still in bed)\",\n",
              " 'Anthem, AZ @mention:30 PM, Temp:60.1&#xB0;F, Wind:0.0 mph NW, Baro:29.37 inches, Hum: 24, Rain:0.00 in., Hi:76.8&#xB0;F, Lo:60.1&#xB0;F@mention:29 PM',\n",
              " 'Good morning!! Waking up on bright sunny day, birds chirping, deer glazing and the plants are budding! Finally... {link}',\n",
              " \"In the car on the way back to Michigan... 77 degrees out what a great start to summer! But I didn't think I would be sad about leaving=(\",\n",
              " 'Cold outside, just felt the window',\n",
              " 'why tf am i so cold ? is it even cold outside ? o.O',\n",
              " 'So i need to stay n cause thats a straight attitude RT @mention: Damn so its nice and hot out today',\n",
              " '@mention Rode a quick pre-storm 32 miles. Getting ready for Saturday.',\n",
              " 'I live in Yukon....these storm looks nasty...should have had dessert today.',\n",
              " 'On the way to Ko Olina... Beautiful weather today :)',\n",
              " 'this weather feels awesome',\n",
              " '#weather Forecast for Rest Of Today {link}',\n",
              " \"@mention had a spanish teacher who believed 50 degrees was the perfect teaching temp, can't fall asleep in cold...I proved him wrong\",\n",
              " 'Cold and rainy in Boston tonight   #sigh',\n",
              " 'This storm matches kinda how i feel right now',\n",
              " \"Good Morning Everybody! Cloudy in #NYC this am but,  as always- sunny at IFD. What's going on?\",\n",
              " 'Grilling Margarita Pork Tenderloin to banish the chilly day.',\n",
              " 'beautiful weather outside and  for this weekend. If the world is coming to an end  this is a perfect weekend to do so!',\n",
              " '@mention it was a good combination. Thanks for that. (1st sunny day of our spring)',\n",
              " 'My heart goes out to all the tornado victims...so many this year too! This country is ready for some calm weather!',\n",
              " \"I hate waking up thinking it's going to be cold and then going outside to find out it's hotter than Hell. #DamnHumidity\",\n",
              " 'Summary Box: Soggy weather benefits corn prices (Palm Beach Post) {link}',\n",
              " 'Dis fuckin weather suck',\n",
              " \"found where the city's been putting all the snow. shit mountain.  {link}/\",\n",
              " 'Heading to the Belle Chasse Air Show today....beautiful weather for it!!',\n",
              " '@mention who knows between the weather being bi-polar and I work at a daycare so all the kids germs',\n",
              " \"Oh JOY! It's a Sunny Tutu Tuesday at the Boutique. Take 10% off any item in my shop with code: TUTU10 at checkout.... {link}\",\n",
              " 'floridaaaa bright & early :) cant waitttttt for this beautiful weather!',\n",
              " 'Loooovin this weather',\n",
              " \"(Monty) The weather's back to normal today: gray and cloudy. So we're definitely having a website tomorrow.\",\n",
              " 'The weather is gtn warmer bt my &lt;3 is gtn colder. Feel lik da weight of the world r on my shoulder.',\n",
              " \"@mention you need to becareful wit them kids before I make u go home it's too hot out there for you!!!\",\n",
              " 'RT @mention: Weather Channel Storm Chasing team is in Wichita today...get ready.',\n",
              " \"@mention That's one advantage to having the snow gone. ; ) Look forward to your always awesome photos.\",\n",
              " 'RT @mention: #GSP cancels Severe Thunderstorm Warning for  Laurens, Spartanburg, Union [SC] till 9:45 PM EDT {link}',\n",
              " 'RT @mention: @mention Sunshine, but ominous skies over the speedway. {link}',\n",
              " '@mention Shudda jux went... Its all cold out here #nshit ...',\n",
              " \"Weather wreaking havoc on boating season: And while levels won't be low, our Brian Dwyer tells us boaters will h... {link}\",\n",
              " \"Oh I'm thanx didn't knw RT @mention Bad storm and potential tornadoes RT @mention So wats abt to happen in Cleveland yall???\",\n",
              " \"I have had a great Mother's Day. Weather was beautiful and we had a great time hanging out all day.\",\n",
              " 'MI weather&lt;',\n",
              " 'Hehe i see..wat r u doin on ur own ends abt dat?? RT @mention: @mention bright n sunny...shawdiz on skimpy tins.lol...all good Bruv..',\n",
              " 'Still chilly today.... Burrr!',\n",
              " \"In Boston for the weekend working Casey Family Services Parent's Conference. Nice and sunny finally:)\",\n",
              " 'Over 80 degrees in my place.  Makes it darn tough to fall asleep. :(',\n",
              " \"If it's below 80 degrees outside It's like FREEZING to me. Bring it on summertime! I want 103! That's perfect.\",\n",
              " 'Flooding causes more deaths than any other severe weather related hazard.  \"Turn Around Don\\'t Drown\" (R) {link}',\n",
              " \"Sunny outside. Booo I'm at work.\",\n",
              " \"RT @mention: 'Chedeng' may hit Metro Manila; Signal No. 2 up in Bicol, Samar {link} #weather #news\",\n",
              " 'iont go outside until after 6 in this type of weather.',\n",
              " \"It's hott as hell 90 degrees today\",\n",
              " '@mention great smell, great business, great weather, tgif! #lovefridays',\n",
              " \"I never understood why ppl wear beanies when it's warm outside. T-shirt, shorts, sandals, beanie.\",\n",
              " '@mention Sunny! all the Way',\n",
              " '\"Cause I know there\\'s sunshine beyond that rain and I know there\\'s good times beyond that pain. I close my eyes and I can see a better day.\"',\n",
              " 'Its slick cold outside',\n",
              " \"Sun ain't even up yet & its 73 degrees out?!? Yeahh its a shorts day\",\n",
              " 'WEATHER: Um... HOT? Highs in the upper-90s under sunny skies. Take it easy out there! Have a terrific Tuesday! - Jonathan Oh',\n",
              " 'Rotisserie chicken with smashed potatoes and lemon green beans at @mention.  So warm and yummy on this chilly night!',\n",
              " 'Hosting the Skybox at Camden Yards tomorrow night. Hoping thw weather will be better than tonight. #RainRainGoAwaycomeAgainAnotherDay',\n",
              " 'I think ima take tucsons sunshine away for the day',\n",
              " '{link}/ Another perfect day in Tampa with a... {link}',\n",
              " '@mention Glad to hear that. More bad weather is heading to Joplin, MO again though/',\n",
              " \"Life isn't about waiting for the storm to hit, it's about learning to dance in the rain. {link}\",\n",
              " 'Fair and Windy and 70 F at Rock Springs, WY Winds are from the South at 32.2 gusting to 42.6 MPH (28 gusting to 37 KT). {link}',\n",
              " 'RT @mention: Wow. More Sunshine. Gates are open and Jazz Fest Thursday has begun.  Listen online at {link}  #jazzfest11  # ...',\n",
              " 'Apparently going for a run in 91 degree weather was not a good idea',\n",
              " 'Can get out of the storm...',\n",
              " \"Haven't checked the weather yet but I hear we're getting some storms.\",\n",
              " '@mention oh my goodness! Yes - definitely worth it! (even if the weather is perfect, movers are worth it!)',\n",
              " 'sunny day...waiting on summer so I can get half naked and see these women drooling:) so fun!!!!!',\n",
              " \"It's too damn cold out here!\",\n",
              " \"What zee hell? 9pm and it's *still* 90 degrees outside.\",\n",
              " 'Whoa. Epic crazy thunderstorm rolling in. #duckandcover',\n",
              " 'Rainy days were made for Burial.',\n",
              " '@mention Perhaps. My feet were freezing yesterday because it was only 79!',\n",
              " \"Sigh. And now I've wasted two sunny hours.\",\n",
              " 'Sunny today, high 94 (34 C).',\n",
              " 'Yeah, apeshit thunderstorms at midnight. Sweeeeeeet. #Spring #MichiganWeather',\n",
              " 'Rode 15.5 miles in 1 hour and 1 min and 17 sec and felt good. Defintely hot out there, but a good ride overal... {link}',\n",
              " 'Feels good out . Same ol rainy looking sky',\n",
              " '@mention come to south Texas its 94 degrees here! #hotashell',\n",
              " '@mention Amen!!! This weather has been crazy.',\n",
              " \"Yesterday was 100degrees. Today is snowing. Like it's culture, Las Vegas weather needs to find an identity..\",\n",
              " '#yankees look to stand a better chance of playing in baltimore, but even there showers & thunderstorms may interrupt things. stay tuned.',\n",
              " \"@mention Droga is killing it! We are having a good time in LA, love the weather. How's business?\",\n",
              " 'RT @mention: Perfect camping, fishing, hiking weather. May we suggest a short trip down 2 McDowell Nature Preserve {link}',\n",
              " '@mention today has just been a weird day all round. I would blame the weather, but, it just seems to easy.',\n",
              " 'Is that a storm I hear',\n",
              " '#WEATHER:  6:53 pm : 66.0F. Feels F. 29.64% Humidity. 24.2MPH South Wind.',\n",
              " 'Good morning sunshine!! RT @mention: Good morning',\n",
              " \"where's the blinking sunshine gone???\",\n",
              " 'Time to mount up and head off to @mention market. Come visit as I heard the weather will be kinder to us tonight in Kailua :)',\n",
              " \"RT @mention: @mention  The weather this year, it's unreal. *don't I kno it - seems like something every day!\",\n",
              " 'watching the weather. Stay safe fellow Arkansans.',\n",
              " 'Another dreary rainy morning in MN, how much more can one take? Bring on some sunshine please!',\n",
              " '#WEATHER:  6:53 pm : 56.0F. Feels 54F. 30.10% Humidity. 8.1MPH South Wind.',\n",
              " 'I wonder if weather men goin to hell???!!? God said thou shalt not lie...',\n",
              " 'Q: will you be my snow bunny A: I am not thinkin about snow: {link}',\n",
              " '@mention the tour was excellent last year--great homes, lovely weather and a festive atmosphere!',\n",
              " '#WEATHER: 2:56 pm P: 79.0F. Feels F. 29.52% Humidity. 21.9MPH Southwest Wind.',\n",
              " \"#childhoodmemories praying for snow so I wouldn't have to go to school\",\n",
              " 'Shore tourism outlook is bright: And last year was pretty strong, thanks to hot, dry weather. In interviews, tou... {link}',\n",
              " \"Fuck off wind - you're too 'windy'\",\n",
              " '@mention I remember when spring was defined by sunshine rather than wet snowfalls, steady rains, and cloudy skies, but that is not this yr.',\n",
              " 'Warm weather, please.',\n",
              " \"Its mad cold out. Can't wait to get home\",\n",
              " '@mention Was great to see you today. What a fun, great event/picnic/day/weather/band & then #royals win!',\n",
              " 'ran 6 miles in 64:42 - it was awesome until lake michigan attacked me! very windy. soaked my left foot, all soggy for the last 1.5 miles.',\n",
              " 'MLive.com: Fifth Third River Run participation numbers down slightly, likely from iffy weather situation {link}',\n",
              " 'Why does the last day in L-Town have to be so rainy and shitty outside. #ohwell',\n",
              " \"@mention holy crap, 90? I'm gonna melt! 60F is shorts and t-shirt weather right now and we've only had 2 days that warm this year!\",\n",
              " 'Haha!!! RT @mention: Anyone wearing a black hoodie and Timbs in 75 degree weather is a criminal.  #JRWisdom',\n",
              " \"I'm freezing...\",\n",
              " 'Back home after a rainy morning car booting with Mr G! Lots of fun but a shame about the weather!',\n",
              " 'Slowly strolling in the sweet sunshine :)',\n",
              " 'NBC TODAY Show - Baby Babble! Twin Boys Chat up a Storm {link} #Videos',\n",
              " 'The National Weather Service has issued a Severe Thunderstorm Warning  until 04:45 PM for Alleghany-NC   AT 344 PM... {link}',\n",
              " '@mention wow- their school year runs long. Is that normal, or snow day related?',\n",
              " 'RT @mention: Significant Storm Damage Reported In Sedalia: The same storm system that prompted multiple tornado warnings in t... {link} ...',\n",
              " \"@mention Mid 80's to low 90's, it's perfect Vegas weather :)\",\n",
              " '#NP - California Sunshine - The Game',\n",
              " 'Make up ur mind weather',\n",
              " 'I hate waking up on rainy days',\n",
              " 'Freakin loving this weather',\n",
              " \"@mention Wow! Be safe. We're in RR. Nothing here but humidity.\",\n",
              " 'RT @mention: #LakersFeelinLike a woman on a windy day wit her weave blowin n her eye.. they just cant see what the fuck goin on',\n",
              " \"Welcome to summer. It's 75 degrees outside #sohappy\",\n",
              " \"Fuck weather interruptions! We can see outside what's happening!\",\n",
              " \"RT @mention: Hot every morning, I don't care what the outside temp is. Caffeine is necessary. {link} @mention #Coffee\",\n",
              " 'I love sitting outside...even when its freezing #hearttohearts rock',\n",
              " 'Im from dade county an its really hot outside bout to ho for a swim in my pool',\n",
              " 'I got caught in the rain storm the last 5min of my jog and it felt amazing!',\n",
              " 'its hot as shit outside',\n",
              " \"Crew finds body of man stuck in snow for months      (AP): AP - The Oregon man's body was found along with his ... {link}\",\n",
              " 'Afternoon thunderstorms remind me of golfing. High school golf was often interrupted by storms and afternoons were spent sliding golf carts.',\n",
              " \"Omfg. The coolhaus truck is still outside my office and it's 80  degrees out. Must resist! And go for a run instead!\",\n",
              " '@mention Miss the Texas storms and PH. He was the one that got me into storm spotting.',\n",
              " '#WEATHER:  12:56 pm: 81.0F. Feels F. 29.92% Humidity. 10.4MPH East Wind.',\n",
              " '#thankyou for this beautiful weather we are having:-)',\n",
              " 'Damn its windy outside. I bet girls are still wearing skirts to clubs, though. Letting it all hang out.',\n",
              " 'Oh how I love the sunshine on my face while eating lunch on my deck. Wearing SPF of course.  HAPPY DAY!',\n",
              " 'RT: @mention #253 Optimistic Weather Dressers: {link} &gt; and yes, I confess, this is me.',\n",
              " 'Leesburg Weather: Forecast for Rest Of Tonight: Mostly cloudy. A chance of showers and thunderstorms late this evening...The...  #weather',\n",
              " \"it's 20 degrees warmer here than it is in  LA!\",\n",
              " \"Buckhead Arts Festival : May 14-15, 2011 {link} via @mention I can't believe that its a week away and this weather is perfect!\",\n",
              " \"Hawks, Grizzlies, Mavs and my C's won this weekend perfect storm for me wanted all those teams to win #thatisafirst\",\n",
              " 'The sun is shining brightly on our patio, It is so warm right now.....there is a wait for an outside... {link}',\n",
              " '@mention oh really, I hope the weather clears up early june cause ill be there',\n",
              " 'Me and my lovely man @mention a bit windy lol +on the beach with sand in our eyes :) {link}',\n",
              " \"Its 66 degrees n I'm sweatin....I can't wait to hit tha gym again!\",\n",
              " \"There's always #thatoneperson who'll Twatch rain, sleet, snow or hail... Smh\",\n",
              " 'RT @mention: its going to be 9O degrees friday:)',\n",
              " \"@mention yah pretty sure it's hot here in Bangkok too. It's about 33 degrees here :)\",\n",
              " 'ALMU removing storm water sources into sanitary sewers to prevent flooding: Avon Lake By Bryan Wroten Though not... {link}',\n",
              " 'RT @mention @mention Yes. It always does, especially on rainy days like this :) so how was your weekend?',\n",
              " 'Tune your feeds to @mention @mention @mention @mention @mention @mention @mention svr weather in #ks #ok',\n",
              " '{link} I love this weather grilling season.',\n",
              " 'All HAILs bells! Come to bastrop and some badass weather in #ATX boooo! I hate driving in  #badweather',\n",
              " 'It is BEE-YOU-TI-FUL outside!  Love this weather... and writing with the windows open.',\n",
              " 'Nope Gino said not happening its to windy lol.  Womppppp',\n",
              " 'opened the windows in my apartment and the temperature went down like 20 degrees instantly - anybody have some extra bodyheat?',\n",
              " '#WEATHER:  11:00 pm: 63.3F. Feels 63F. % Humidity. 8.0MPH South Wind.',\n",
              " 'Awake. What a waste of a day off. This weather sucks!',\n",
              " '@mention That sounds great! Yes, it was good here too. Weather is finally nice. :)',\n",
              " 'Fun week of weather coming up. :(  {link}',\n",
              " 'Miami is extremely cool, extremely fun, extremely sunny but...My home is NYC now...',\n",
              " 'Ahh humidity, I have not missed you. #baltimore #Railsconf',\n",
              " 'Grad night was a total success.... Besides being freezing cold from the foam party.. Had a nice hot shower now its time to sleep all day :)',\n",
              " '#childhoodmemories my dad throwin me in the snow bc i wanted to go outside in a bathing suit at 5 yrs old',\n",
              " 'At 03:46 PM TBW has issued a Special Weather Statement until 04:30 PM.  {link}',\n",
              " \"@mention I've been to a few games this year, but they've all been rainy. Looking forward to going to one on a nice day!\",\n",
              " \"Power has been out in my apt complex so I had to work out in the dark.  Wasn't too bad, it got hot in there, and treadmill didn't work.\",\n",
              " \"It's cloudy but with some sun, Las Vegas weather usually doesn't get like this at this time of year, but it's still nice.\",\n",
              " 'in spite of this horrendous weather, today is going to be a \"great\" day!',\n",
              " \"sunny mother's day afternoon downtown Greenville checking out water fountain at new courtyard {link}\",\n",
              " 'RT @mention: New Post: Thoughts on a Snowy Day in May {link}',\n",
              " \"I'm hopin the weather gets nicer so I can hoop it up after work.\",\n",
              " 'Gainesville rock city! At maccaroni grill with my dad and Loot. I missed this hot sunny weather.',\n",
              " \"RT @mention: It's NOT warm outside.\",\n",
              " 'Y is it so COLD in the shop #freezing',\n",
              " \"@mention I'm a starbucks addict. It was warm and sunny for weeks but the past few days have been cold.\",\n",
              " 'This is cuddling weather I swear .',\n",
              " 'Tornado warning issued near Seibert: The National Weather Service has issued a tornado warning until 5 p.m. for... {link}',\n",
              " \"If it was 30 degrees & raining, then I'd be irritated.\",\n",
              " 'This atrocious weather is going to cause me to have a temper tantrum...',\n",
              " \"@mention That's what I figured you had to do! :-(  I think you've gotten worse weather out of this system than we have!\",\n",
              " 'Just came in from the mall; its hot as hell outside!',\n",
              " 'lol.. well the weather is great! Cheers! @mention @mention @mention @mention @mention @mention',\n",
              " '@mention I kno :(...I wasnt able to check the weather for 40 mins earlier & abt spazzed I dont kno how u do it w/o satellite',\n",
              " 'So really the cable service of choice for Hooters is satellite??? I mean the tv freezing cause of the storm get it together',\n",
              " 'Rainy days! good days to come and make an apt for extreme lashes :-)',\n",
              " 'Yo weather, WTF? Syracuse is thatta way.',\n",
              " 'RT @mention: RT @mention: Vampire weather',\n",
              " 'hello- another rainy day in Boston. So far it has yet to get to me- but we have 1 more week of this nonsense- so my mood will end up bitter',\n",
              " '@mention I really enjoyed spending time with you too! Are you back in Toronto now? I saw some sunshine in NYC today before I left- nice',\n",
              " \"It's almost June and it's only 42 degrees outside in #Milwaukee. What gives?\",\n",
              " \"Maui Weather/Surf LiveCams -Thur., May 12th-Ho'okipa Beach Park/ North Shore Maui {link}/ {link}\",\n",
              " 'is that...sunshine?!',\n",
              " 'Just as I thought. Checked the weather for Miami. Looks like a cold-front will be hitting South Beach next week. Sounds perfect. :) #Bulls',\n",
              " '40 degrees on May 5th is not acceptable! :-P',\n",
              " 'Current weather at 11:00 ,62.1 deg, 95 pct 3.0 mph, from the NE',\n",
              " \"These kids is out here fighting and I'm sholl in this air conditioning watching and bangin some Hot Krunchy Cheese Curls.\",\n",
              " 'Crazy ass storm happening right now! Hail balls !  {link}',\n",
              " 'Beautiful weather here in Texas, but excited to get to Florida tmrw night. I DO live in Nashville, right? Occasionally! :)',\n",
              " 'Partly cloudy skies today with temperatures around 5 to 10 degrees above average. Highs will warm into the upper... {link}',\n",
              " \"I think it's time for me to do something productive with this day. Bike ride time. Such beautiful weather.\",\n",
              " 'It is hot as hell outside. #needwater',\n",
              " 'What to Wear: Looks like another day of shorts & tees. Dense fog this AM will become sunshine later. 70s beaches, 80s inland. (via @mention)',\n",
              " 'For the Women! :))) thoughts :) - did you see my earlier post asking if yiu think a storm calendar is a goid idea?... {link}',\n",
              " 'Water is 57 degrees #nice......but goodbye winter pits',\n",
              " 'RT @mention: Tributefest this Sat! Some important numbers: 8 bands, 12 food trucks, 30 beers on tap, 74 degrees.',\n",
              " 'London Aquarium: penguin-tastic. Boat ride on the Thames: chilly/drizzly/sunny all at the same time, London Eye: saving that for another day',\n",
              " \"@mention I'm looking forward to a nice flight, but the weather between Vegas, Salt Lake City & Sacramento is anything but.\",\n",
              " 'I find the power of a thunderstorm teaches me to stand in awe and wonder at our God. #catholic',\n",
              " 'Current Conditions: Fair, 65 FForecast: Mon - Partly Cloudy. High: 77 Low: 59 Tue - Mostly Sunny. High: 77 Low: 58Full Forecast at Ya...',\n",
              " 'Severe Thunderstorm Warning for Bond, Fayette, and Montgomery County in IL until 2:15pm CDT. #ilwx',\n",
              " \"Lowe's 1Q profit falls partly on bad weather      (AP): AP - Lowe's Cos. said Monday its first-quarter profit f... {link}\",\n",
              " 'TONIGHT 1/2: Scattered thunderstorms during the evening. Partly cloudy skies after midnight. A few storms may be severe. Low 56*F.',\n",
              " \"And I love it!! Perfect grilling weather. RT @mention It's May 18th and I'm wearing a sweat shirt this morning. That isn't normal.\",\n",
              " 'Knowing there will be a new @mention album is the sunshine I need on a crappy day.',\n",
              " '@mention How are you doing?  Weather sounds like it has calmed down where you are',\n",
              " 'Sun\\'s overrated, create your own endorphin sun! \"@mention: 2 days of Seattle-like weather .. ready 2 fly anywhere there might be some sun.\"',\n",
              " 'Its really chilly out tonight!',\n",
              " \"@mention oh thats cool. Lol i'm freezing lol\",\n",
              " \"@mention wonderful lol I'm loving the weather how about you?\",\n",
              " 'Ew nasty cold ugly weather. Makes me want to curl up into a ball on the couch and do nothing.',\n",
              " \"Yowsers it is hot, hot, hot out there! Twenty minutes of yard work and I burned 220 calories. Yeesh! That's enough for today! #fb\",\n",
              " 'Happy Friday everyone! Enjoy the sunshine, fresh air and your amazing life this weekend. All my best!',\n",
              " '@mention a huge laugh was just what we needed with this weather! It is a MUST SEE!!! Enjoy!',\n",
              " '@mention hottest style for the Hot weather :) semi breezy lol?',\n",
              " \"Chief Meteorologist John Gerard says it'll be quite cool the next few nights, lows in the 50s. Look for a sunny weekend, highs 80-85. #fb\",\n",
              " \"my allergies don't hit until AFTER the weather calms down? Ma Nature's a vindictice bitch  &gt;:-(\",\n",
              " 'its so HOT outside!!',\n",
              " 'Man its hot azz hell out here!!! Smh, its just spring!',\n",
              " \"It's getting hot out today!\",\n",
              " \"What a calming lightning storm we're having here in the 262.. Might have to kick the beats on and create some shyt.  {link}\",\n",
              " \"@mention I was hoping for the instameet, which I'm prepared to turn into a whatever we wanna shoot meet, not sure about weather\",\n",
              " \"@mention Don't be no girl. I'm off in an hour and it's perfect outside! Lol at you got a cold.\",\n",
              " \"The sky is blue for the first morning this week it seems like. I hope it's 80 degrees today. So sick of the cold.\",\n",
              " 'New Blog Post: Our favorite warm weather meal! {link}',\n",
              " 'Looking up in columbus circle #nyc #rain {link}',\n",
              " \"@mention well looks like you'll have sunshine until FRIDAY THE 13th!! :)\",\n",
              " \"@mention it's 88 and sunny here in Winter Park.  WOO WOO WOO... you know it bro. #youpickedthewrongplacetolive\",\n",
              " \"Meh.. It was hot last week.. Now it's a bit chilly again... -___-\",\n",
              " 'SPC Severe Thunderstorm Watch 294 {link}',\n",
              " 'Fair and Windy and 84 F at Carroll, IA Winds are from the Southeast at 29.9 gusting to 36.8 MPH (26 gusting to 32 KT).  {link}',\n",
              " '#BackTheShack hope the weather clears up and you guys can crush it at the ATOC!',\n",
              " 'Ohhh so this is what 70 degrees feels like',\n",
              " '@mention @mention aww thanks! Wish you were here. The weather is nice - not too hot (thank goodness)',\n",
              " \"@mention and by 'take a nap' I hope that means you are getting some ass too... this weather is #babymakingweather ... haha\",\n",
              " 'Severe thunderstorm watch until 9:30 for the area covered in orange. These storms have a history of rotation. {link}',\n",
              " 'RT @mention: @mention lol #HELL Yea Its Hot Out Here',\n",
              " \"Me: I had to go pick one of our plants up cuz it fell over. Must have been windy. Dad: No, I think it's Saturday. Me [sarcastically]: haha\",\n",
              " \"Uh I think this goes without saying, but it's hot as balls outside.\",\n",
              " 'Sunny afternoon road trip!Windows down&Traveling Wilburys through my speakers,so lovely.',\n",
              " \"@mention it really was and it wasn't that expensive, great idea and the weather is fantastic today!\",\n",
              " 'RT @mention: #LakerGang #TeamLakers #LakerNation Rain, Sleet, or Snow!',\n",
              " 'i wannna be outside enjoying the weather. #college',\n",
              " \"Last week we had 80 and 90 degree weather, and this week we're having 50 degree weather. WTF?!?!\",\n",
              " \"get over people tweeting and making statuses about the weather it's their choice so shut up!\",\n",
              " 'Damn, such nice weather....damn you finals!',\n",
              " 'this is sleepn weather.',\n",
              " \"I'm so mad when I do my midnight run imma have to put 2 or 3 layers on .. This weather is shitty ..\",\n",
              " '#WEATHER:  9:56 pm : 80.0F. Feels F. 29.90% Humidity. 4.6MPH South Wind.',\n",
              " \"RT @mention: If you're affected by weather today (like me), here was my wkout: 15min build 200-375w. Then 6X90sec build 350-450w w ...\",\n",
              " \"Damn it's bout to storm\",\n",
              " \"@mention@mention: Hey y'all ! IT'S CHILLY HERE IN COLORADO! They speak Snow too.\",\n",
              " 'RT @mention: #Rain on Meeee....Want you take this PAIN from meee.........',\n",
              " \"RT @mention: 5/21/11 - 12:10pm - it's snowing. but it's still 90 degrees. the sky is lavender and magenta.\",\n",
              " 'Its hot the hoes out here looking terrible',\n",
              " \"i can't sleep if its above 75 degrees in my house. Very spoiled. Very tired. Very glad when we get a new A/C next week.\",\n",
              " 'Charlie and Lola: Snow is My Favorite and My Best (Charlie & Lola):  {link}',\n",
              " \"I would rather it be pouring or sunny today. what we have right now isn't cutting it.\",\n",
              " '@mention oh good. RI weather is so boring, I think were getting storms tonight though. Movie night!',\n",
              " 'detroit area michigan weather forecast | home for rent in ... {link}',\n",
              " 'Good running weather',\n",
              " 'the weather kind of sucks :/',\n",
              " '#WEATHER: 2:53 pm E: 80.0F. Feels F. 30.04% Humidity. 9.2MPH Southeast Wind.',\n",
              " '@mention crazy weather. Lighting took out the motor of my pool. That sucks.',\n",
              " 'Weather: Partly sunny with highs in the 70s {link} #hrva #hrweather',\n",
              " 'MTD Yard Machines Snow Blowers - Reviews and Complaints: br style=\"clear: both;\"What kid would not be relieved t... {link}',\n",
              " 'Its so sunny out!!!!!! Amusement Park here i come....!',\n",
              " \"thunderstorm, candlelight, and reading he's just not that into you #oneofthosenights\",\n",
              " 'RT @mention: Request to weather gods from N. Cal: Can we just keep it right here for a while?',\n",
              " \"Let's continue South bound. RT @mention: @mention ready for the snow and the fans (and race) that never came. {link}\",\n",
              " 'Favorite Thing For A Manager To Say Is....... Take The Day Off And Enjoy The SunShine  #POURUPTIME',\n",
              " '@mention LOL...You can have it. Supposed to be a cold and rainy Memorial Day weekend from what they say.',\n",
              " 'RT @mention: @mention racing in a rain forest, next snow tires in Alaska!',\n",
              " \"HOT, HOT, and HOT this weekend with a chance of storms, Kendra's webcast is brand new and online now: {link} #fb\",\n",
              " 'Mostly Cloudy and 61 F at Stuart Powell Field Airport, KY The humidity is 52%.  Last Updated on May 6 2011, 10:55 am ED {link}',\n",
              " \"Student's success defies all odds: It's her lunch break on a sunny afternoon in Phoenix and instead of chatting ... {link}\",\n",
              " 'Taking a slow walk home from practice, enjoying this wonderful weather. :)',\n",
              " \"No more rain PLEASE!! RT @mention: Showers in the valley tomorrow means snow in the Sierra above 5000 feet. keep that in mind if you're...\",\n",
              " \"RT @mention: I'm loving this #BayArea weather right now. It feels like Christmas.\",\n",
              " 'Yeah storm is an understatement #monsoon',\n",
              " 'its gonna be rainy and humid today -__-',\n",
              " '@mention Yeah man, 2nd Thursday in a row. Me thinks its the turn in the weather.',\n",
              " \"Rev'd up is tonight at the Hall..Praying for nice weather!!\",\n",
              " 'Crews Carve Way Through Deep Snow On Trail Ridge: Crews trying to clear Trail Ridge Road in Rocky Mountain Natio... {link}',\n",
              " 'This weather is absolutely amazing! So happy to be home!',\n",
              " \"@mention Love the warm weather, not the humidity, but we'll take it #summertime\",\n",
              " \"@mention The weather :( but the sweet sound of Josh's voice will make it all worth while. Have a blast!\",\n",
              " 'Is it me or does Arizona get like random windy momments out of no where?',\n",
              " '@mention You know how I love a good storm, but after seeing the trees in my hard bending nearly 90degrees, I backed away from the window.',\n",
              " 'RT @mention: Chris, Scott and John discuss the weather and the excuse of a match Sunday night. Chris appears to have awaken on... http:/ ...',\n",
              " \"@mention it's storming bad here.. Tornado warnings all over.. Yuck!! Hope you have better weather!!!\",\n",
              " 'Arsenal blows. Weather is amazing. Neighbor bumpin music into the courtyard. Some baby screaming. #sunday',\n",
              " 'Ive seen \"peek\" written incorrectly as \"peak\" (ie \"sneak peak\") so many times Im getting confused. Things i think about on a rainy day.',\n",
              " 'A little storm has just fired north of Watertown. We do have a lightning strike on it. Will be keeping an eye on it. Its headed NE. #sdwx',\n",
              " 'Hot outside',\n",
              " 'should be a great quali tom #bbcf1 & weather great too, wkends have been great lately, on the look out for old furniture tom, old is def new',\n",
              " \"Now that it's hot as shit outside, my face is breaking out like shit #notwinning\",\n",
              " \"@mention I'm hoping for tshirt and short weather for the Show-Me next week..long drive if it rains!!\",\n",
              " '80 degrees and sunny?! Where did THAT come from?!?',\n",
              " \"#TampaBay #Boston #NHLPlayoffs game starts & outside arena sunny. #Philadelphia..sun still exists! There IS hope we'll see it again someday.\",\n",
              " \"I hate to say it, but I'm ready for the fall... That cool crisp weather.\",\n",
              " 'I see why they call it HOTLANTA! hot as hell outside',\n",
              " 'Severe t-storm warning for Buncombe, Yancey and McDowell counties until 5 p.m. Details at {link}. #fb',\n",
              " 'Needless to say, sunshine does strange and amazing things to Seattlites :)',\n",
              " \"RT @mention: RT @mention: When the storm has passed, put Your Energy into Rebuilding Your Life, Don't Waste time looking  ...\",\n",
              " '@mention ~laughs, stepping into the warm spray of the shower, quickly working to wash off my body, gasping out~ I can have pancakes!',\n",
              " '#Rapture started on East coast! RT@mention: Just got really dark, windy, and rainy.  Apparently God has a sense of humor. I like that.',\n",
              " '#WEATHER:  2:53 pm : 55.0F. Feels 54F. 30.10% Humidity. 5.8MPH Northwest Wind.',\n",
              " '#NDSUBison SB takes on UMKC at noon in SL championship .. 52, windy, rainy \"Bison Weather\"',\n",
              " 'is that general darkness due to weather, or has the ash cloud consumed us?',\n",
              " \"Packing for Gettys. This weather is RIDIC! Negros don't know what to wear! I got an umbrella, shorts, rainboots, sweater, flip-flops.. #sad\",\n",
              " '@mention @mention @mention #cosign it slightly nasty and its like lemon slush with strawberry syrup on the bottom',\n",
              " \"it chilly here...I don't want to get out from under the blankets LOL\",\n",
              " 'RT @mention: RT @mention: #childhoodmemories  drinking water out of a hot as water hoes ... Haha',\n",
              " '@mention Good! Enjoying some nice weather! How are you?',\n",
              " '@mention I hope the nasty weather stays far away from you! Stay safe guys!!',\n",
              " 'Weather {link}',\n",
              " 'Cold af outside',\n",
              " \"@mention Of course it's true. Trust me, I'm a Utahn, Carlos Boozer plays well about as often as we have sunny weather in April\",\n",
              " \"Fuk this #rain dead ass shits #crazy where's the sun at and nice days at ?\",\n",
              " 'You can reduce the effects of the weather by using a minimum SPF 15 sunscreen and then apply a facial moisturize... {link}',\n",
              " 'a rainy day is best combated with RED shoes #itsSTILLraining',\n",
              " 'Niggaz change like the weather,so no matter the weather i keep it G nothing lesser.',\n",
              " 'Lil Bastard is sleeping in a sunny open window. Swear that cat is smiling! #SunnyBTV',\n",
              " 'Horizon League title game in weather delay ... final game of 2011 regular season',\n",
              " 'SPC Day 3-8 Fire Weather Outlook {link}',\n",
              " '#WEATHER:  5:53 am : 42.0F. Feels 39F. 29.88% Humidity. 4.6MPH Northeast Wind.',\n",
              " \"wanna go outside but i don't have money to do stuff.but its sunny outside man! :(\",\n",
              " \"@mention I'm good. Lovin this rainy weather just wish I had someone to cuddle up with\",\n",
              " 'SUNSHINE & RAIN...',\n",
              " 'Only 103 miles to ride....at least its windy :)',\n",
              " 'RT @mention: We are looking forward to dinner with the @mention folks on Sat...weather looks awesome!  #GleekRetreat11 &lt;&lt; excited!',\n",
              " \"LOL...weather forecast through Saturday the predicted 'End of the World' according to one group.  {link}  #rapture #endtimes\",\n",
              " 'RT @mention: im not feelin this damn weather . shit better change come th weekend',\n",
              " \"We're enjoying the beautiful #StLouis weather! It's a great day for your office to get out and about. Ask us about... {link}\",\n",
              " '@mention hell yeah it hate the weather out here.',\n",
              " 'Enjoying the beautiful weather',\n",
              " 'Engagements over on FB, I love warmer weather! {link}',\n",
              " '@mention yea yesterday it couldnt make up its mind. it would be sunny.. then pour down rain.. then sunny again..',\n",
              " 'Sitting outside, reading, and enjoying an icy cold Michelobe Ultra. #ilovesummertime',\n",
              " \"It's only fitting that this idea came to me under a thunder storm.\",\n",
              " 'Will trade ugly rainy days for sunny ones!',\n",
              " 'Chilling in my living room watching Still Standing while drinking some hot chocolate.. Oh rainy days..',\n",
              " 'This is cuddle weather',\n",
              " 'Weather Alert: Red Flag Warning issued May 07 at 3:45PM MDT expiring May 08 at 9:00PM MDT by NWS Flagstaff http:... {link}',\n",
              " \"Even tho it's rainy & gray in Maine, summer IS around the corner!  summer Finds by @mention {link} via @mention\",\n",
              " 'This weather has my hair fugged.',\n",
              " \"Links 4 you: Today's major severe weather outlook {link} & Tornado safety tips {link} [via @mention]\",\n",
              " 'I hate the weather. It was like 85F n hot last week. When I was walking on the street in Murray we swear. but now it is 54, not hot anymore.',\n",
              " 'Everybody loves the sunshine {link}',\n",
              " 'I am chilly today! Where did the warm weather go? #chs',\n",
              " 'Loving the weather so nice outside! {link}',\n",
              " \"Here's a mega-pack of YA books & swag from @mention on @mention - GO! BID! Help storm victims! {link}\",\n",
              " \"RT @mention: hahahaha i love my aircon everyone who's dying of the heat i'm sitting right in front of it freezing my ass off\",\n",
              " \"RT @mention: On sale! Nerdist Podcast Live at SDCC, 7/23! Don't be left out in the cold San Diego streets! {link}\",\n",
              " '#sotellmewhy its raining here in italy. It should be sunny. #teamfollowback',\n",
              " \"Sat in bed watching the storm out my window, it's mega!\",\n",
              " 'Too hot for covers, but if I have my legs out the demon from Insidious might get me.',\n",
              " 'Izzy getting sick on our last day of vacation means we got out of the heat/humidity & went back to our room (& all got a great nap).',\n",
              " \"woke up to thunderstorms..tough to get up w/ those...especially when i'm not really doing anything this whole last week of class!\",\n",
              " \"Taking my eldest 2 to their 1st @mention match. Hope the weather doesn't ruin it.\",\n",
              " 'To hot outside',\n",
              " '...A SPRING SNOW STORM WILL CONTINUE FOR THE REMAINDER OF TONIGHT ACROSS THE BIGHORN MOUNTAINS... .A STRONG LOW PRESSUR {link}',\n",
              " 'Has actually had a pleasant time with Emily Gilmore II. Just waiting for the storm to hit though.',\n",
              " '@mention @mention @mention @mention May stop by tomorrow.  Hoping the weather is as wonderful as it is at this second.',\n",
              " \"DEAD RT @mention: Saturday's Weather, cloudy with a chance of rapture?\",\n",
              " 'I love this weather!!!',\n",
              " \"RT @mention: Think I'm going straight home all week... This weather will help me\",\n",
              " \"my dad got the back door wide open! it ain't 75 degrees outside nomore. it's freezing fool\",\n",
              " \"(RT from RSS) Alabama's Lost Birthdays helps children who lost birthdays in storm {link}\",\n",
              " \"@mention  {link}   that's what 28 feet of snow looks like (that's in CO.) (I'm in WY) (close enough!)\",\n",
              " 'PiYo at Studio49 has been cancelled tonight due to the weather (crazy Indiana weather, huh?!). We will keep you... {link}',\n",
              " '@mention @mention 1st day was great, students loved it. The weather looks ok for now.  Time will tell.',\n",
              " 'Hoggard vs. Pine Forest tonite at 6pm weather permitting.  Hoggard is the #1 seed from the MEC.',\n",
              " \"RT @mention: i'm gonna be in 80-90 degree weather for 2 weeks. idk how i feel about that. i'd rather be cold\",\n",
              " 'Hey #teamrefuge! Night of Champions is tonight...be prepared, it might be the rare \"Extreme Weather Edition\" and it will be outside.',\n",
              " 'Rainy sundays are the best! Jacuzzi time followed by another movie/cuddle night. What more could a girl want? Besides chocolate :p',\n",
              " \"I love the weather. It's beautiful\",\n",
              " 'Lovin this Weather on this Beautiful mothers day!',\n",
              " 'RT @mention Iight dis storm can hurry up and shake now!',\n",
              " 'I can see the humidity in the air... Its so gross',\n",
              " '@mention lol any severe weather around Paragould/Jonesboro area coming tonight?',\n",
              " 'Peak of 32 degrees today in London. In my room, hate being top floor!',\n",
              " 'Damn its hot af out here. Lol',\n",
              " '#WEATHER:  12:55 pm: 77.0F. Feels F. 29.82% Humidity. 5.8MPH Southwest Wind.',\n",
              " 'RT @mention: RT @mention: Pray for cloudy weather tomorrow: if Jesus comes back and sees his shadow, it means six more weeks of Armageddon.',\n",
              " '#REDS game tonight a little chilly but alright!',\n",
              " 'RT @mention: RT @mention You would think w/ this crazy ass weather people would drive safely..guess not! Fuckn idiot!',\n",
              " \"RT @mention: I bet the #factory is empty cuz it's #chilly\",\n",
              " 'RT @mention: thunderstorms remind me of an inexplicable need to translate my experience into something new.',\n",
              " \"It's cold as hell outside and they in the pool kickin it o_O\",\n",
              " 'WEATHER: Saint Louis, Missouri Weather :: 74F FAIR: 74F FAIR {link}',\n",
              " '@mention Betsy was the first hurricane to cause damage in excess of $1 billion; the storm thus earned the nickname \"Billion-Dollar Betsy\".',\n",
              " '#alliwantis nice weather',\n",
              " 'Thank God for a early morning to rising to SUNNY DAY.....',\n",
              " \"RT @mention: It's time to get ready for the weekend! Perfect weather for partying outside tonight.\",\n",
              " 'Who needs television, when you have Carolina thunderstorms? #ilovemyhome',\n",
              " 'Track the Severe Weather here: {link}',\n",
              " '#WEATHER:  5:52 am : 74.0F. Feels F. 29.66% Humidity. 13.8MPH South Wind.',\n",
              " \"WHEN ITS COLD OUTSIDE I'VE GOT THE MONTH OF MAY #TEMPTATIONS\",\n",
              " 'What do you do on a rainy day while in the Smokies?',\n",
              " \"OMG it's so hot out today\",\n",
              " 'ok so all the early storms in nashville area...we had alot of trees and power lines down....enough of this bad weather already...',\n",
              " 'This rain is sure putting a damper on my riding! Need sunshine asap!!',\n",
              " 'Where is the warm weather #gee',\n",
              " 'ATH: Stray shower entering SW Meck. Tracking E/NE should be short lived. Doubtful it becomes a storm. #cltwx #ncwx -Crum',\n",
              " 'Bio-Ethanol Fireplace - Your Friend in chilly Winters {link} #workathome #news #jobs #economy',\n",
              " 'RT @mention: Record high of 92 degrees TIED today in #StPetersburg.  #HOT  #flwx',\n",
              " '#US Wet weather delays crop planting in W.Va.: Associated Press - May 12, 2011 8:35 AM ET CH... {link} #News #WestVirginia',\n",
              " 'Now Playing on BaltimoreNetRadio: National Weather Service Atlantic City - Ocean City, NJ and Regional WX Conditions',\n",
              " \"Cars and Coffee Houston - Vintage Park 5/7: Weather will be PERFECT! We'll be there... {link}\",\n",
              " '@mention I would just hate the storms. My cousin said there is a place that makes snow in Tennessee :)',\n",
              " \"So sad to be chopping up a yew tree today that came down in all the snow before Christmas. It's going to leave a huge scar in the wood.\",\n",
              " '@mention I figured Texas weather would be the worst but who knows lol',\n",
              " 'Fantastic run in the Ogden half marathon, approx time: 1:55 - perfect weather, and great support. #OgdenHalfMarathon',\n",
              " \"Is glad the weather men/women don't know what the heck they r talking about!\",\n",
              " 'Its 12:35 and its 85 degrees outside.  Y is the AC not on',\n",
              " 'Its so hot outside',\n",
              " '@mention well my weather channel app said it was supposed to rain',\n",
              " 'Monday 2:00 PM Joseph Weather Temp. 47, High 48, Low 33, Hum. 49%  Wind 4.4 mph N, Gust 14 mph NW  Baro. 29.872 .in, Trend Steady #fb',\n",
              " 'Its not even summer and im already dreaming of fall weather. Excuse me while I cry and live the next few months naked and drenched in sweat',\n",
              " 'this gray, cold CRAPPY weather needs to go away. it makes me grumpy and sleepy. i wanna be happy and energetic! #perkysnow',\n",
              " 'RT @mention: Storm in Parker Co., TX capable of softball size hail plus possible tornado threat. Warning info: {link}',\n",
              " 'RT @mention: @mention,@mention,An updated graph of the amount of water in the snow above Bountiful, Utah #utflood {link} ...',\n",
              " '*generic grumble about the weather* Is this what May is always like?',\n",
              " 'sunshine or snow.. them hoes run in they best clothes',\n",
              " \"Wishing all moms a wonderful Mother's Day. Enjoy the sunshine!\",\n",
              " 'My lips are cracked. Stupid weather.',\n",
              " 'As soon as it reached 75 degrees with clearing skies.. an absolutely insane DOWNPOUR came. Wait, wait.. is that Jesus?',\n",
              " 'RT @mention: Coffee is my sunshine on a rainy morning. #getinmahbelleh',\n",
              " \"Why are an alarmingly high number of people wearing sweatshirts? LOOK OUTSIDE! IT'S SUNNY! IT'S NEVER SUNNY! #justryingtohelp\",\n",
              " 'Its arrival day for our group. Hopefully the weather cooperates today so they can get here. (@ Manchester Grand Hyatt) {link}',\n",
              " 'Sitting in my favorite coffee shop on a rainy day, writing, writing, writing! {link}',\n",
              " 'Weather delay at Wells Fargo Championship.  #pga',\n",
              " 'Why RT @mention: if u dont have a surge protector... i suggest u unplug ur plasma/lcd screens b4ha weather (cont) {link}',\n",
              " \"It's super hot outside. I kno it was raining last nite\",\n",
              " 'Liberty Memorial Veterans Parks Ribbon Cutting Location Changed Due to Weather: The location of the Libert... {link}',\n",
              " '#Winemaker Telmo Rodriguez this Tuesday at 28 Degrees! {link}',\n",
              " 'thinkin of goin campin dis weeken if the weather acts right!?!',\n",
              " 'So we are having bad weather again tonight and tomorrow...when will this stop.',\n",
              " 'says morning everyone from another rainy Maine day. {link}',\n",
              " 'New Blog Post Snow...Really?:  Yes, these were taken today, May 12, 2011, only nine days before the scheduled ap... {link}',\n",
              " 'RT @mention: DEVELOPING: Storm with a history of producing one or more tornadoes was located near University Park, Texas (851 pm ...',\n",
              " \"@mention I know it was a crazy night. I wasn't the only one awake...@mention... Humidity not that bad yet. Was fairly decent out 2day\",\n",
              " 'Max and Ruby Rainy Day Play DVD #giveaway {link} @mention',\n",
              " \"So pissed off that it's sunny and I'm going to be stuck in the office all day writing about Aquinas and Christine de Pizan\",\n",
              " \"COLISEUM Official Free Promo MP3: 'Blind In One Eye' (Full Song) (2010) (Temp. Residence) - Download: {link} @mention #rock\",\n",
              " 'Freezing!!!',\n",
              " 'Its so damn hot out i just want to rip all my clothes off',\n",
              " 'Morning Sunshine & Lollipops! Hope your week is filled with creativity and innovation - personally and professionally!',\n",
              " \"@mention Looks bloody hot out there! How's it going?\",\n",
              " '@mention Oh wow, you had hail? We just got dark clouds passing overhead in southern NH. Now it is sunny and windy.',\n",
              " \"That's snow.\",\n",
              " \"RT @mention RT @mention: @mention 'Sunny Afternoon' follows.../ yer wish is my command: (cont) {link}\",\n",
              " 'and suddenly its very windy outside.the lord is pushing me to sleep and i tell him yes sir..',\n",
              " \"@mention yeah...even in shitty weather, it's still shitty to be shitty!\",\n",
              " \"It's 80 degrees out. Better put on my wool cap.\",\n",
              " \"Here's your 7 day weather forecast!!\",\n",
              " \"It's hot af I need to get out these pants let my kitty breathe\",\n",
              " '@mention When this weather gets MUCH nicer',\n",
              " '70 degrees and having a beer on my deck. Perfect.',\n",
              " 'Rainy day in DC {link}',\n",
              " 'BeeUteeful spring weather....does it make ya wanna buy spirit wear??',\n",
              " \"Feelin a little under the weather but I can't let it stop me! Gotta get goin this morning! Have a good day every1 :-)\",\n",
              " \"High is 90 tomorrow. Ugh I'm not supposed to sitting in school while it's that hot outside. #iwantsummer\",\n",
              " 'Are Sunnier Days In Our Future? | KTVA CBS 11 News | Weather Blog {link}',\n",
              " 'Marino always shows videos on rainy days. Always. I hate it.',\n",
              " 'I have a free sunny Seattle afternoon to play with. Interested parties should get in touch.',\n",
              " 'its so frkn hot and humid outside...i shouldnt have straightened my hair...but the movie was nice..lol.surprised my mother let me go esp ...',\n",
              " '#WEATHER:  2:53 pm : 78.0F. Feels F. 29.79% Humidity. 15.0MPH West Wind.',\n",
              " 'Outside: 65.0 F, Humidity: 60%, Wind: (86) 7 mph, Press: 29.94\", Rain: 0.00',\n",
              " 'Jits out here seling #CapriSuns 2 for $1...we almost bought the whole cooler how hot it is',\n",
              " 'bleh alk trio, there is way better rainy day music!',\n",
              " 'What happened? Man survived 68 days stuck in snow before dying: 7 to go camping but got stuck on Feb. 14 after h... {link}',\n",
              " 'Mane its hot as hell outside! #huntsvillealabama',\n",
              " 'January Brings the Snow:  {link}',\n",
              " '@mention what weather?? Lol I stay in the city aka fog town',\n",
              " 'On this date: 2 tornadoes in West Des Moines and a trace of snow in Des Moines... {link} #dmweather #iawx',\n",
              " 'Yuppp deff can get used to this weather',\n",
              " \"I remember not to long ago 68 felt like Summer! .... Now...I'm freezing my unmentionables off! Guess I'll be forced to cuddle with my man :)\",\n",
              " 'I hear wine & rain pair nicely together! RT @mention Rainy weather is not going to stop me from enjoying @mention #positivetweet',\n",
              " 'Freezing!!!',\n",
              " 'Our delicious, refreshing gazpacho is perfect for the sunny spring weather AND 20% off! goo.gl/v88tt (for a limited time)',\n",
              " 'Hey #Obama. How about you take that money that you want to give to the Arabs and help the #American people devastated by the weather.',\n",
              " 'RT @mention: Rainy cinco de drinko... #notcool',\n",
              " \"@mention Thanks you made my Friday! What do you have going on today / tonight? It's #sacramento BBQ weather for sure\",\n",
              " 'today was a amazing weather but now its raining hard -.-',\n",
              " 'Its hot as shit outside shhheeeeesssshhhh',\n",
              " 'summer thunderstorms at the lake. #perfectdaydream',\n",
              " \"it's windy as shit outside.\",\n",
              " 'I want the nice weather back :(',\n",
              " 'guppys making me wait outside in the cold for 40 mins? Duncha know who I am?!?!',\n",
              " 'RT @mention After the weather the past couple months you owe it to yourself to get out. May I suggest Scottys Pu... {link}',\n",
              " \"Cannot wait to be in sunny tampa w my dearest @mention tom morning! I'll b tweeting from behind enemy lines and sending lots of pics!\",\n",
              " 'RT @mention: Help #Joplin-The Salvation Army providing emergency relief services.   Text the word \"Joplin\" to 80888 to make a $10  ...',\n",
              " 'Rainy day. Lovin it so far',\n",
              " '#WEATHER:  1:53 am : 63.0F. Feels 63F. 29.92% Humidity. 8.1MPH East Wind.',\n",
              " '@mention - goodmorning sunshine ( :',\n",
              " \"word, it's 69 degrees\",\n",
              " 'it hot outside.',\n",
              " \"I'm confused by how bright and sunny it is outside at 6 PM. Aaahh summer in the ATX\",\n",
              " '#WEATHER:  12:53 am: 54.0F. Feels 50F. 29.87% Humidity. 13.8MPH Southeast Wind.',\n",
              " 'Silly Euros RT @mention: Overheard some euro guys ask if weather is always like this in US. They all came here with their summer clothes.',\n",
              " 'Perfect weather to celebrate @mention 21st birthday!',\n",
              " \"Silly cat stayed outside too long and I had to fetch him. Now we're both wet and dirty! Loving the thunderstorms though...\",\n",
              " 'This weather sucks',\n",
              " \"Eeehh!! What's going on? *side eyes everyone* its not cold outside O_o\",\n",
              " \"RT @mention: #Missouri I'm well aware the Weather Channel is n a limited area but the radio traffic spks4itself as do the Gov Websites\",\n",
              " 'That was a crazy ass storm that just came through here',\n",
              " 'Now this is real weather no more of that winter sh!t #ILiveLikeThisMyWholeLife',\n",
              " 'Mmmm abit of sunshine makes everyone happy!',\n",
              " 'RT @mention: Ladies, as warm weather approaches, please remember: Spandex is a privilege, not a right.',\n",
              " 'WXGR Groove Cruise on the Isles of Shoals! fun funky music & Harpoon Brewery. Perfect Weather - Thursday 7-10pm wxgrfm@mention.com to win tix!',\n",
              " \"@mention I have tried a whole lot of remedies. Usually I just need to wait out the storm. Tonight they're unusually big.\",\n",
              " \"Sitting in the grass while the puppies peepoo and Meh! It's hot outside shaaa\",\n",
              " 'Oh wat beautiful weather!!',\n",
              " 'Happy Cinco de May! We are cold to start (Laramie is currently at a record low of 20 degrees!) But we warm up quickly today!',\n",
              " '@mention Ahhh gotcha, well hopefully the weather is nice and sunny for your mon/tue weekend! Any plans then?',\n",
              " \"It was chilly the entire time I was there :/ @mention It's cold than a bitch in L.A.! What in the global warming Batman?!\",\n",
              " \"Another rainy day in May! Why can't I catch a break?? Oh right... because I live in Utah and it hates me.\",\n",
              " \"It hasn't been 80 degrees in Minnesota since October... supposed to be 80 DEGREES TOMORROW!! #soexcited #summer :)\",\n",
              " \"More coverage of @mention filmmakers at Cannes from @mention {link} Congrats to them all...how's the weather in France?\",\n",
              " \". @mention's got a tag team of meteorologists handling the severe weather alerts this evening. #thunderstorms\",\n",
              " 'I should be a storm chaser b/c apparently tornados like to find me #2tornados2cities1day #godispickingonme',\n",
              " \"@mention haha Yup, that's Seattle/Portland weather for ya! ;)\",\n",
              " \"@mention I'm wearing a flowery strapless warehouse summer dress (despite the weather) with my kurt geiger pink heels I think\",\n",
              " 'Baseball update - Knights game vs. Simpson pushed back to 11:30 a.m. due to weather...',\n",
              " 'Open-air, outdoor, on-location shoots become possible again with the return of the warm weather and sunshine. Yesss!!!',\n",
              " 'it was literally 85-90 degrees in my art history final.',\n",
              " 'Periods of showers and thunderstorms Saturday thru Sunday across Arkansas. Some severe weather, and heavy rainfall possible at times. #ARwx',\n",
              " 'RT @mention: Finally! Sunshine!  Patio is open and awaiting you this weekend.  Enjoy the sunshine!',\n",
              " 'Sunny this afternoon, high 81 (27 C).  Low  55 (13 C) tonight.',\n",
              " 'Another windy day... Yay?',\n",
              " \"After this storm .. I'm outta here!\",\n",
              " '@mention eeewwww!!!! I thought it was chilly here!!! :(',\n",
              " \"@mention don't think we would fill it, without the fair weather fans that come out in the good times only\",\n",
              " \"@mention busy but good. Out in your neck of the woods (kinda) while I visit the fam. What's this humidity crap? ;)\",\n",
              " \"@mention but if y'all get it in this weather it's gone get fucked up again\",\n",
              " 'Sitting outside on the bench talking to my mommy. Enjoying this weather',\n",
              " 'Sweet sunshine after a very wet night and day!',\n",
              " 'Sitting on the front porch watching the storm role in. Kinda cool.',\n",
              " '@mention Its sunny everyday why yall want come visit us',\n",
              " 'The Park today? Not too hot outside today, maybe a little rain? Sounds delightful!!!',\n",
              " \"It's so hot outside.....\",\n",
              " 'Greensburg PA:Comfortable overcast, 67.6&#xB0;F, 100&#x25;, 0.0 mph-WNW, 29.521 inches(Rising), Rain 0.787 in. [Alert Special Weather Sta',\n",
              " 'vegas weather today is pretty good.. #ihatethehotweather',\n",
              " 'Maybe I should shower haha. What shall I wear today? Is it gonna get windy?',\n",
              " \"{link} // 'nother one dem good weather dinners.\",\n",
              " ...]"
            ]
          },
          "metadata": {},
          "execution_count": 9
        }
      ]
    },
    {
      "cell_type": "code",
      "source": [
        "train_labels"
      ],
      "metadata": {
        "colab": {
          "base_uri": "https://localhost:8080/"
        },
        "id": "seDxuhxrkduH",
        "outputId": "6883c67a-ee7e-42de-8bf3-88be700be443"
      },
      "execution_count": 10,
      "outputs": [
        {
          "output_type": "execute_result",
          "data": {
            "text/plain": [
              "array([ 4, 12,  1, ...,  4,  6,  1])"
            ]
          },
          "metadata": {},
          "execution_count": 10
        }
      ]
    },
    {
      "cell_type": "code",
      "source": [
        "X=train_data"
      ],
      "metadata": {
        "id": "hZShsxEPkgVm"
      },
      "execution_count": 14,
      "outputs": []
    },
    {
      "cell_type": "code",
      "source": [
        "len(X)"
      ],
      "metadata": {
        "colab": {
          "base_uri": "https://localhost:8080/"
        },
        "id": "irf8oc8BkgYQ",
        "outputId": "068d6ccb-0383-470e-f040-0b429524cb43"
      },
      "execution_count": 15,
      "outputs": [
        {
          "output_type": "execute_result",
          "data": {
            "text/plain": [
              "62356"
            ]
          },
          "metadata": {},
          "execution_count": 15
        }
      ]
    },
    {
      "cell_type": "code",
      "source": [
        "y=train_labels"
      ],
      "metadata": {
        "id": "I46lk-Rokga_"
      },
      "execution_count": 16,
      "outputs": []
    },
    {
      "cell_type": "code",
      "source": [
        "len(y)"
      ],
      "metadata": {
        "colab": {
          "base_uri": "https://localhost:8080/"
        },
        "id": "I51s-V7ekgdh",
        "outputId": "4706760d-bd41-4789-d0db-e7f2c7ee29b1"
      },
      "execution_count": 17,
      "outputs": [
        {
          "output_type": "execute_result",
          "data": {
            "text/plain": [
              "62356"
            ]
          },
          "metadata": {},
          "execution_count": 17
        }
      ]
    },
    {
      "cell_type": "code",
      "source": [
        "X[0]"
      ],
      "metadata": {
        "colab": {
          "base_uri": "https://localhost:8080/",
          "height": 35
        },
        "id": "A-p4dF0kkggT",
        "outputId": "a139dcd5-a033-40c6-e1d7-9ef9ee2fed93"
      },
      "execution_count": 18,
      "outputs": [
        {
          "output_type": "execute_result",
          "data": {
            "text/plain": [
              "'79.0F (Feels: 79.0F) - Humidity: 99% - Wind: 8.3mph N - Gust: 9.8mph - Pressure: 1010.6mb (+0.1)  #weather {link}'"
            ],
            "application/vnd.google.colaboratory.intrinsic+json": {
              "type": "string"
            }
          },
          "metadata": {},
          "execution_count": 18
        }
      ]
    },
    {
      "cell_type": "code",
      "source": [
        "y[0]"
      ],
      "metadata": {
        "colab": {
          "base_uri": "https://localhost:8080/"
        },
        "id": "F50vEavgkgi4",
        "outputId": "a167885d-c5cb-4e49-81cc-85ad2ef9eeec"
      },
      "execution_count": 20,
      "outputs": [
        {
          "output_type": "execute_result",
          "data": {
            "text/plain": [
              "4"
            ]
          },
          "metadata": {},
          "execution_count": 20
        }
      ]
    },
    {
      "cell_type": "code",
      "source": [
        "def tweet_preprocessor(tweet):\n",
        "    tweet = tweet.replace('\\n', ' ') # remove line breaks\n",
        "    tweet = re.sub(r\"\\bhttps://t.co/\\w+\", '', tweet) # remove URL's\n",
        "    tweet = re.sub('\\w*\\d\\w*', ' ', tweet) # remove numbers\n",
        "    tweet = re.sub('[%s]' % re.escape(string.punctuation), ' ',   \n",
        "            tweet.lower()) # remove capital letters and punctuation\n",
        "    \n",
        "    return tweet"
      ],
      "metadata": {
        "id": "FaObawGPkgoG"
      },
      "execution_count": 25,
      "outputs": []
    },
    {
      "cell_type": "code",
      "source": [
        "path.columns"
      ],
      "metadata": {
        "colab": {
          "base_uri": "https://localhost:8080/"
        },
        "id": "quEaw3glnuAp",
        "outputId": "f2fecde1-e3af-48b0-c75f-65b4eebaa016"
      },
      "execution_count": 30,
      "outputs": [
        {
          "output_type": "execute_result",
          "data": {
            "text/plain": [
              "Index(['id', 'tweet', 'state', 'location', 's1', 's2', 's3', 's4', 's5', 'w1',\n",
              "       'w2', 'w3', 'w4', 'k1', 'k2', 'k3', 'k4', 'k5', 'k6', 'k7', 'k8', 'k9',\n",
              "       'k10', 'k11', 'k12', 'k13', 'k14', 'k15'],\n",
              "      dtype='object')"
            ]
          },
          "metadata": {},
          "execution_count": 30
        }
      ]
    },
    {
      "cell_type": "code",
      "source": [
        "from sklearn.model_selection import train_test_split\n",
        "X_train, X_test, y_train, y_test = train_test_split(X,y,test_size=0.2,stratify=y)"
      ],
      "metadata": {
        "id": "Nu8RysvcmD3r"
      },
      "execution_count": 33,
      "outputs": []
    },
    {
      "cell_type": "code",
      "source": [
        "X_train, X_val, y_train, y_val = train_test_split(X_train,y_train,test_size=0.2,stratify=y_train)"
      ],
      "metadata": {
        "id": "5rMXZjVPmD8e"
      },
      "execution_count": 34,
      "outputs": []
    },
    {
      "cell_type": "markdown",
      "source": [
        "**Data preprocessing**"
      ],
      "metadata": {
        "id": "O9B0r6sVoYYB"
      }
    },
    {
      "cell_type": "code",
      "source": [
        "from sklearn.feature_extraction.text import TfidfVectorizer\n",
        "from sklearn.feature_selection import SelectKBest, f_classif"
      ],
      "metadata": {
        "id": "oD5eDatLmEBR"
      },
      "execution_count": 35,
      "outputs": []
    },
    {
      "cell_type": "code",
      "source": [
        "vectorizer = TfidfVectorizer( \n",
        "                             strip_accents='unicode', \n",
        "                             decode_error='replace',\n",
        "                             dtype='int32',                              \n",
        "                             analyzer=\"word\", \n",
        "                             ngram_range=(1, 2), \n",
        "                             min_df=2)"
      ],
      "metadata": {
        "id": "0GFsLf9AmEEF"
      },
      "execution_count": 36,
      "outputs": []
    },
    {
      "cell_type": "code",
      "source": [
        "X_train = vectorizer.fit_transform(X_train)"
      ],
      "metadata": {
        "colab": {
          "base_uri": "https://localhost:8080/"
        },
        "id": "FLTAk5fgoenp",
        "outputId": "be8aece7-d51e-4720-88e7-eb8a0e939113"
      },
      "execution_count": 37,
      "outputs": [
        {
          "output_type": "stream",
          "name": "stderr",
          "text": [
            "/usr/local/lib/python3.7/dist-packages/sklearn/feature_extraction/text.py:2032: UserWarning: Only (<class 'numpy.float64'>, <class 'numpy.float32'>, <class 'numpy.float16'>) 'dtype' should be used. int32 'dtype' will be converted to np.float64.\n",
            "  UserWarning,\n"
          ]
        }
      ]
    },
    {
      "cell_type": "code",
      "source": [
        "X_test = vectorizer.transform(X_test)"
      ],
      "metadata": {
        "id": "m5Dq2Vr2oeq4"
      },
      "execution_count": 38,
      "outputs": []
    },
    {
      "cell_type": "code",
      "source": [
        "X_val = vectorizer.transform(X_val)"
      ],
      "metadata": {
        "id": "kX_AQjDLoeuh"
      },
      "execution_count": 39,
      "outputs": []
    },
    {
      "cell_type": "code",
      "source": [
        "selector = SelectKBest(f_classif, k = min(20000, X_train.shape[1]))\n",
        "selector.fit(X_train, y_train)"
      ],
      "metadata": {
        "colab": {
          "base_uri": "https://localhost:8080/"
        },
        "id": "ihqtpI8KoexE",
        "outputId": "1a37d56c-2a42-4b69-8ff1-11c04c94ad74"
      },
      "execution_count": 40,
      "outputs": [
        {
          "output_type": "execute_result",
          "data": {
            "text/plain": [
              "SelectKBest(k=20000)"
            ]
          },
          "metadata": {},
          "execution_count": 40
        }
      ]
    },
    {
      "cell_type": "code",
      "source": [
        "X_train = selector.transform(X_train).astype('float32')\n",
        "X_test = selector.transform(X_test).astype('float32')\n",
        "X_val = selector.transform(X_val).astype('float32')"
      ],
      "metadata": {
        "id": "S01-JToUonA8"
      },
      "execution_count": 41,
      "outputs": []
    },
    {
      "cell_type": "code",
      "source": [
        "X_train.shape"
      ],
      "metadata": {
        "colab": {
          "base_uri": "https://localhost:8080/"
        },
        "id": "6Pbcd4j5onEm",
        "outputId": "e0dde227-8b21-4f9e-c354-90091afce28c"
      },
      "execution_count": 42,
      "outputs": [
        {
          "output_type": "execute_result",
          "data": {
            "text/plain": [
              "(39907, 20000)"
            ]
          },
          "metadata": {},
          "execution_count": 42
        }
      ]
    },
    {
      "cell_type": "code",
      "source": [
        "X_test.shape"
      ],
      "metadata": {
        "colab": {
          "base_uri": "https://localhost:8080/"
        },
        "id": "rn-f8bQDonHc",
        "outputId": "f48e81d1-1eed-4b0b-c205-87fbd90a385f"
      },
      "execution_count": 43,
      "outputs": [
        {
          "output_type": "execute_result",
          "data": {
            "text/plain": [
              "(12472, 20000)"
            ]
          },
          "metadata": {},
          "execution_count": 43
        }
      ]
    },
    {
      "cell_type": "code",
      "source": [
        "y_train = np.array(y_train)\n",
        "y_test = np.array(y_test)\n",
        "y_val = np.array(y_val)"
      ],
      "metadata": {
        "id": "cQqDzhozonKJ"
      },
      "execution_count": 44,
      "outputs": []
    },
    {
      "cell_type": "code",
      "source": [
        "X_train = X_train.toarray()\n",
        "X_test = X_test.toarray()\n",
        "X_val = X_val.toarray()"
      ],
      "metadata": {
        "id": "mlfRcDgponMw"
      },
      "execution_count": 45,
      "outputs": []
    },
    {
      "cell_type": "code",
      "source": [
        "X_train.shape"
      ],
      "metadata": {
        "colab": {
          "base_uri": "https://localhost:8080/"
        },
        "id": "DPH5yA74onOz",
        "outputId": "7aeb7c08-b73d-4111-9e86-a90061bd1270"
      },
      "execution_count": 46,
      "outputs": [
        {
          "output_type": "execute_result",
          "data": {
            "text/plain": [
              "(39907, 20000)"
            ]
          },
          "metadata": {},
          "execution_count": 46
        }
      ]
    },
    {
      "cell_type": "markdown",
      "source": [
        "**ANN**"
      ],
      "metadata": {
        "id": "b7BYz605o8N9"
      }
    },
    {
      "cell_type": "code",
      "source": [
        "from keras.models import Sequential, load_model\n",
        "from keras.layers import Dense, Dropout"
      ],
      "metadata": {
        "id": "YQKBW99Woezv"
      },
      "execution_count": 47,
      "outputs": []
    },
    {
      "cell_type": "code",
      "source": [
        "newsANN = Sequential()"
      ],
      "metadata": {
        "id": "NykrFzt6oe2g"
      },
      "execution_count": 48,
      "outputs": []
    },
    {
      "cell_type": "code",
      "source": [
        "newsANN.add(Dense(units=512, activation='relu', input_dim=20000))\n",
        "newsANN.add(Dense(units=1, activation='sigmoid'))"
      ],
      "metadata": {
        "id": "sU8dOKUrpC6s"
      },
      "execution_count": 49,
      "outputs": []
    },
    {
      "cell_type": "code",
      "source": [
        "newsANN.compile(loss='binary_crossentropy', optimizer='adam', metrics=['accuracy'])"
      ],
      "metadata": {
        "id": "yCsm8St6pDJK"
      },
      "execution_count": 50,
      "outputs": []
    },
    {
      "cell_type": "code",
      "source": [
        "from keras.callbacks import EarlyStopping, ModelCheckpoint, ReduceLROnPlateau\n",
        "es = EarlyStopping(monitor='val_accuracy', min_delta=0, patience=20, verbose=1, mode='auto', baseline=None, restore_best_weights=False)\n",
        "mc = ModelCheckpoint(filepath='bestweights.h5', monitor='val_accuracy', verbose=1, save_best_only=True)\n",
        "rd = ReduceLROnPlateau(monitor='val_accuracy', factor=0.1, patience=10, verbose=1, mode='auto')"
      ],
      "metadata": {
        "id": "8uD86kfjpDPK"
      },
      "execution_count": 51,
      "outputs": []
    },
    {
      "cell_type": "code",
      "source": [
        "history = newsANN.fit(X_train, y_train, epochs=20, callbacks=[es,rd,mc], validation_split=0.25)"
      ],
      "metadata": {
        "colab": {
          "base_uri": "https://localhost:8080/"
        },
        "id": "G1XCOe9IpDSs",
        "outputId": "d5bc6c92-4d38-49e0-eb7f-fcbc774a2a94"
      },
      "execution_count": 52,
      "outputs": [
        {
          "output_type": "stream",
          "name": "stdout",
          "text": [
            "Epoch 1/20\n",
            "936/936 [==============================] - ETA: 0s - loss: -2850.5144 - accuracy: 0.0926\n",
            "Epoch 1: val_accuracy improved from -inf to 0.09101, saving model to bestweights.h5\n",
            "936/936 [==============================] - 78s 82ms/step - loss: -2850.5144 - accuracy: 0.0926 - val_loss: -8729.1758 - val_accuracy: 0.0910 - lr: 0.0010\n",
            "Epoch 2/20\n",
            "936/936 [==============================] - ETA: 0s - loss: -19550.4648 - accuracy: 0.0926\n",
            "Epoch 2: val_accuracy did not improve from 0.09101\n",
            "936/936 [==============================] - 73s 78ms/step - loss: -19550.4648 - accuracy: 0.0926 - val_loss: -32975.6016 - val_accuracy: 0.0910 - lr: 0.0010\n",
            "Epoch 3/20\n",
            "936/936 [==============================] - ETA: 0s - loss: -49846.1211 - accuracy: 0.0926\n",
            "Epoch 3: val_accuracy did not improve from 0.09101\n",
            "936/936 [==============================] - 73s 78ms/step - loss: -49846.1211 - accuracy: 0.0926 - val_loss: -69552.8438 - val_accuracy: 0.0910 - lr: 0.0010\n",
            "Epoch 4/20\n",
            "936/936 [==============================] - ETA: 0s - loss: -91508.0703 - accuracy: 0.0926\n",
            "Epoch 4: val_accuracy did not improve from 0.09101\n",
            "936/936 [==============================] - 72s 77ms/step - loss: -91508.0703 - accuracy: 0.0926 - val_loss: -116614.2578 - val_accuracy: 0.0910 - lr: 0.0010\n",
            "Epoch 5/20\n",
            "936/936 [==============================] - ETA: 0s - loss: -142869.3125 - accuracy: 0.0926\n",
            "Epoch 5: val_accuracy did not improve from 0.09101\n",
            "936/936 [==============================] - 72s 77ms/step - loss: -142869.3125 - accuracy: 0.0926 - val_loss: -172994.6250 - val_accuracy: 0.0910 - lr: 0.0010\n",
            "Epoch 6/20\n",
            "936/936 [==============================] - ETA: 0s - loss: -203206.7500 - accuracy: 0.0926\n",
            "Epoch 6: val_accuracy did not improve from 0.09101\n",
            "936/936 [==============================] - 73s 78ms/step - loss: -203206.7500 - accuracy: 0.0926 - val_loss: -238124.5156 - val_accuracy: 0.0910 - lr: 0.0010\n",
            "Epoch 7/20\n",
            "936/936 [==============================] - ETA: 0s - loss: -272168.9062 - accuracy: 0.0926\n",
            "Epoch 7: val_accuracy did not improve from 0.09101\n",
            "936/936 [==============================] - 72s 77ms/step - loss: -272168.9062 - accuracy: 0.0926 - val_loss: -311863.8750 - val_accuracy: 0.0910 - lr: 0.0010\n",
            "Epoch 8/20\n",
            "936/936 [==============================] - ETA: 0s - loss: -349508.5312 - accuracy: 0.0926\n",
            "Epoch 8: val_accuracy did not improve from 0.09101\n",
            "936/936 [==============================] - 72s 77ms/step - loss: -349508.5312 - accuracy: 0.0926 - val_loss: -393902.1875 - val_accuracy: 0.0910 - lr: 0.0010\n",
            "Epoch 9/20\n",
            "936/936 [==============================] - ETA: 0s - loss: -434962.1875 - accuracy: 0.0926\n",
            "Epoch 9: val_accuracy did not improve from 0.09101\n",
            "936/936 [==============================] - 72s 77ms/step - loss: -434962.1875 - accuracy: 0.0926 - val_loss: -484014.1875 - val_accuracy: 0.0910 - lr: 0.0010\n",
            "Epoch 10/20\n",
            "936/936 [==============================] - ETA: 0s - loss: -528534.8750 - accuracy: 0.0926\n",
            "Epoch 10: val_accuracy did not improve from 0.09101\n",
            "936/936 [==============================] - 72s 77ms/step - loss: -528534.8750 - accuracy: 0.0926 - val_loss: -582365.9375 - val_accuracy: 0.0910 - lr: 0.0010\n",
            "Epoch 11/20\n",
            "936/936 [==============================] - ETA: 0s - loss: -630288.8750 - accuracy: 0.0926\n",
            "Epoch 11: ReduceLROnPlateau reducing learning rate to 0.00010000000474974513.\n",
            "\n",
            "Epoch 11: val_accuracy did not improve from 0.09101\n",
            "936/936 [==============================] - 72s 77ms/step - loss: -630288.8750 - accuracy: 0.0926 - val_loss: -688933.1875 - val_accuracy: 0.0910 - lr: 0.0010\n",
            "Epoch 12/20\n",
            "936/936 [==============================] - ETA: 0s - loss: -689492.5625 - accuracy: 0.0926\n",
            "Epoch 12: val_accuracy did not improve from 0.09101\n",
            "936/936 [==============================] - 72s 77ms/step - loss: -689492.5625 - accuracy: 0.0926 - val_loss: -699714.6875 - val_accuracy: 0.0910 - lr: 1.0000e-04\n",
            "Epoch 13/20\n",
            "936/936 [==============================] - ETA: 0s - loss: -700048.5625 - accuracy: 0.0926\n",
            "Epoch 13: val_accuracy did not improve from 0.09101\n",
            "936/936 [==============================] - 72s 76ms/step - loss: -700048.5625 - accuracy: 0.0926 - val_loss: -710245.5625 - val_accuracy: 0.0910 - lr: 1.0000e-04\n",
            "Epoch 14/20\n",
            "936/936 [==============================] - ETA: 0s - loss: -710474.3125 - accuracy: 0.0926\n",
            "Epoch 14: val_accuracy did not improve from 0.09101\n",
            "936/936 [==============================] - 72s 77ms/step - loss: -710474.3125 - accuracy: 0.0926 - val_loss: -720733.5000 - val_accuracy: 0.0910 - lr: 1.0000e-04\n",
            "Epoch 15/20\n",
            "936/936 [==============================] - ETA: 0s - loss: -720909.5625 - accuracy: 0.0926\n",
            "Epoch 15: val_accuracy did not improve from 0.09101\n",
            "936/936 [==============================] - 72s 77ms/step - loss: -720909.5625 - accuracy: 0.0926 - val_loss: -731268.0625 - val_accuracy: 0.0910 - lr: 1.0000e-04\n",
            "Epoch 16/20\n",
            "936/936 [==============================] - ETA: 0s - loss: -731388.3125 - accuracy: 0.0926\n",
            "Epoch 16: val_accuracy did not improve from 0.09101\n",
            "936/936 [==============================] - 71s 76ms/step - loss: -731388.3125 - accuracy: 0.0926 - val_loss: -741838.6875 - val_accuracy: 0.0910 - lr: 1.0000e-04\n",
            "Epoch 17/20\n",
            "936/936 [==============================] - ETA: 0s - loss: -741931.6875 - accuracy: 0.0926\n",
            "Epoch 17: val_accuracy did not improve from 0.09101\n",
            "936/936 [==============================] - 72s 77ms/step - loss: -741931.6875 - accuracy: 0.0926 - val_loss: -752496.6875 - val_accuracy: 0.0910 - lr: 1.0000e-04\n",
            "Epoch 18/20\n",
            "936/936 [==============================] - ETA: 0s - loss: -752545.9375 - accuracy: 0.0926\n",
            "Epoch 18: val_accuracy did not improve from 0.09101\n",
            "936/936 [==============================] - 73s 78ms/step - loss: -752545.9375 - accuracy: 0.0926 - val_loss: -763229.3125 - val_accuracy: 0.0910 - lr: 1.0000e-04\n",
            "Epoch 19/20\n",
            "936/936 [==============================] - ETA: 0s - loss: -763233.1250 - accuracy: 0.0926\n",
            "Epoch 19: val_accuracy did not improve from 0.09101\n",
            "936/936 [==============================] - 72s 77ms/step - loss: -763233.1250 - accuracy: 0.0926 - val_loss: -774019.4375 - val_accuracy: 0.0910 - lr: 1.0000e-04\n",
            "Epoch 20/20\n",
            "936/936 [==============================] - ETA: 0s - loss: -774001.3125 - accuracy: 0.0926\n",
            "Epoch 20: val_accuracy did not improve from 0.09101\n",
            "936/936 [==============================] - 72s 77ms/step - loss: -774001.3125 - accuracy: 0.0926 - val_loss: -784906.3125 - val_accuracy: 0.0910 - lr: 1.0000e-04\n"
          ]
        }
      ]
    },
    {
      "cell_type": "code",
      "source": [
        "newmodel = load_model('bestweights.h5')"
      ],
      "metadata": {
        "id": "JeHg8WyApDVj"
      },
      "execution_count": 53,
      "outputs": []
    },
    {
      "cell_type": "code",
      "source": [
        "newmodel.evaluate(X_test, y_test)"
      ],
      "metadata": {
        "colab": {
          "base_uri": "https://localhost:8080/"
        },
        "id": "H3EQT0xXpDYs",
        "outputId": "10294c5b-657b-4b5a-ad82-95fda5878ca8"
      },
      "execution_count": 54,
      "outputs": [
        {
          "output_type": "stream",
          "name": "stdout",
          "text": [
            "390/390 [==============================] - 9s 22ms/step - loss: -8896.5957 - accuracy: 0.0922\n"
          ]
        },
        {
          "output_type": "execute_result",
          "data": {
            "text/plain": [
              "[-8896.595703125, 0.09220654517412186]"
            ]
          },
          "metadata": {},
          "execution_count": 54
        }
      ]
    },
    {
      "cell_type": "markdown",
      "source": [
        "**Deployment in web server**"
      ],
      "metadata": {
        "id": "15j4VfX7vbtm"
      }
    },
    {
      "cell_type": "code",
      "source": [
        "!pip install flask gevent requests pillow flask-ngrok pyngrok"
      ],
      "metadata": {
        "colab": {
          "base_uri": "https://localhost:8080/"
        },
        "id": "BUKTqZ9NpDb8",
        "outputId": "14272515-c6b5-4c8e-db94-8ae989b1ef57"
      },
      "execution_count": 55,
      "outputs": [
        {
          "output_type": "stream",
          "name": "stdout",
          "text": [
            "Looking in indexes: https://pypi.org/simple, https://us-python.pkg.dev/colab-wheels/public/simple/\n",
            "Requirement already satisfied: flask in /usr/local/lib/python3.7/dist-packages (1.1.4)\n",
            "Collecting gevent\n",
            "  Downloading gevent-21.12.0-cp37-cp37m-manylinux_2_12_x86_64.manylinux2010_x86_64.whl (5.8 MB)\n",
            "\u001b[K     |████████████████████████████████| 5.8 MB 5.0 MB/s \n",
            "\u001b[?25hRequirement already satisfied: requests in /usr/local/lib/python3.7/dist-packages (2.23.0)\n",
            "Requirement already satisfied: pillow in /usr/local/lib/python3.7/dist-packages (7.1.2)\n",
            "Collecting flask-ngrok\n",
            "  Downloading flask_ngrok-0.0.25-py3-none-any.whl (3.1 kB)\n",
            "Collecting pyngrok\n",
            "  Downloading pyngrok-5.1.0.tar.gz (745 kB)\n",
            "\u001b[K     |████████████████████████████████| 745 kB 35.1 MB/s \n",
            "\u001b[?25hRequirement already satisfied: Jinja2<3.0,>=2.10.1 in /usr/local/lib/python3.7/dist-packages (from flask) (2.11.3)\n",
            "Requirement already satisfied: itsdangerous<2.0,>=0.24 in /usr/local/lib/python3.7/dist-packages (from flask) (1.1.0)\n",
            "Requirement already satisfied: click<8.0,>=5.1 in /usr/local/lib/python3.7/dist-packages (from flask) (7.1.2)\n",
            "Requirement already satisfied: Werkzeug<2.0,>=0.15 in /usr/local/lib/python3.7/dist-packages (from flask) (1.0.1)\n",
            "Requirement already satisfied: MarkupSafe>=0.23 in /usr/local/lib/python3.7/dist-packages (from Jinja2<3.0,>=2.10.1->flask) (2.0.1)\n",
            "Requirement already satisfied: greenlet<2.0,>=1.1.0 in /usr/local/lib/python3.7/dist-packages (from gevent) (1.1.3)\n",
            "Requirement already satisfied: setuptools in /usr/local/lib/python3.7/dist-packages (from gevent) (57.4.0)\n",
            "Collecting zope.interface\n",
            "  Downloading zope.interface-5.4.0-cp37-cp37m-manylinux2010_x86_64.whl (251 kB)\n",
            "\u001b[K     |████████████████████████████████| 251 kB 49.0 MB/s \n",
            "\u001b[?25hCollecting zope.event\n",
            "  Downloading zope.event-4.5.0-py2.py3-none-any.whl (6.8 kB)\n",
            "Requirement already satisfied: certifi>=2017.4.17 in /usr/local/lib/python3.7/dist-packages (from requests) (2022.6.15)\n",
            "Requirement already satisfied: chardet<4,>=3.0.2 in /usr/local/lib/python3.7/dist-packages (from requests) (3.0.4)\n",
            "Requirement already satisfied: urllib3!=1.25.0,!=1.25.1,<1.26,>=1.21.1 in /usr/local/lib/python3.7/dist-packages (from requests) (1.24.3)\n",
            "Requirement already satisfied: idna<3,>=2.5 in /usr/local/lib/python3.7/dist-packages (from requests) (2.10)\n",
            "Requirement already satisfied: PyYAML in /usr/local/lib/python3.7/dist-packages (from pyngrok) (6.0)\n",
            "Building wheels for collected packages: pyngrok\n",
            "  Building wheel for pyngrok (setup.py) ... \u001b[?25l\u001b[?25hdone\n",
            "  Created wheel for pyngrok: filename=pyngrok-5.1.0-py3-none-any.whl size=19007 sha256=430e5014da0b261723f16ac661baa56fa106dfb130fdded2d2e7521c21efcac3\n",
            "  Stored in directory: /root/.cache/pip/wheels/bf/e6/af/ccf6598ecefecd44104069371795cb9b3afbcd16987f6ccfb3\n",
            "Successfully built pyngrok\n",
            "Installing collected packages: zope.interface, zope.event, pyngrok, gevent, flask-ngrok\n",
            "Successfully installed flask-ngrok-0.0.25 gevent-21.12.0 pyngrok-5.1.0 zope.event-4.5.0 zope.interface-5.4.0\n"
          ]
        }
      ]
    },
    {
      "cell_type": "code",
      "source": [
        "from flask_ngrok import run_with_ngrok\n",
        "from flask import Flask, render_template, request\n",
        "from keras.preprocessing.image import load_img, img_to_array"
      ],
      "metadata": {
        "id": "OdHIOeHPpDd3"
      },
      "execution_count": 56,
      "outputs": []
    },
    {
      "cell_type": "code",
      "source": [
        "procfile = 'web: gunicorn app:app'\n",
        "procfiles = open('/content/Procfile', 'w')"
      ],
      "metadata": {
        "id": "HJ4eH5_LvieW"
      },
      "execution_count": 57,
      "outputs": []
    },
    {
      "cell_type": "code",
      "source": [
        "procfiles.write(procfile)"
      ],
      "metadata": {
        "colab": {
          "base_uri": "https://localhost:8080/"
        },
        "id": "DhysBxduvirV",
        "outputId": "f585cefd-14f0-4ff3-afec-c49f4b0b9def"
      },
      "execution_count": 58,
      "outputs": [
        {
          "output_type": "execute_result",
          "data": {
            "text/plain": [
              "21"
            ]
          },
          "metadata": {},
          "execution_count": 58
        }
      ]
    },
    {
      "cell_type": "code",
      "source": [
        "procfiles.close()"
      ],
      "metadata": {
        "id": "CihTi3-SviuL"
      },
      "execution_count": 59,
      "outputs": []
    },
    {
      "cell_type": "code",
      "source": [
        "!mkdir '/content/templates'"
      ],
      "metadata": {
        "id": "lz17_B2fpDgg"
      },
      "execution_count": 60,
      "outputs": []
    },
    {
      "cell_type": "markdown",
      "source": [
        "**Connecting webpage with ANN**"
      ],
      "metadata": {
        "id": "4PYgMtI_wGyf"
      }
    },
    {
      "cell_type": "code",
      "source": [
        "import pyngrok"
      ],
      "metadata": {
        "id": "SUQMRFZQoe4t"
      },
      "execution_count": 61,
      "outputs": []
    },
    {
      "cell_type": "code",
      "source": [
        "!ngrok authtoken 2ElvUsOWqaMY22pOX3juthVikxW_6fh4DFTCFRVEuTnbDgYHS"
      ],
      "metadata": {
        "colab": {
          "base_uri": "https://localhost:8080/"
        },
        "id": "ZQb-rlLdwdop",
        "outputId": "ceb766b0-e0e4-4c21-b14d-a3598bf0f6f1"
      },
      "execution_count": 62,
      "outputs": [
        {
          "output_type": "stream",
          "name": "stdout",
          "text": [
            "Authtoken saved to configuration file: /root/.ngrok2/ngrok.yml\n"
          ]
        }
      ]
    },
    {
      "cell_type": "code",
      "source": [
        "app = Flask(__name__)\n",
        "run_with_ngrok(app)\n",
        "\n",
        "@app.route('/')\n",
        "def home():\n",
        "  return render_template('index.html')\n",
        "\n",
        "@app.route('/', methods=['POST'])\n",
        "def prediction():\n",
        "  data = request.form['textbox']\n",
        "  features = [data]\n",
        "\n",
        "if __name__=='__main__':\n",
        "  app.run()"
      ],
      "metadata": {
        "colab": {
          "base_uri": "https://localhost:8080/"
        },
        "id": "62SBkeXUwdrT",
        "outputId": "64df11f7-e9e8-4f6f-8739-120e91c1febe"
      },
      "execution_count": 66,
      "outputs": [
        {
          "output_type": "stream",
          "name": "stdout",
          "text": [
            " * Serving Flask app \"__main__\" (lazy loading)\n",
            " * Environment: production\n",
            "\u001b[31m   WARNING: This is a development server. Do not use it in a production deployment.\u001b[0m\n",
            "\u001b[2m   Use a production WSGI server instead.\u001b[0m\n",
            " * Debug mode: off\n"
          ]
        },
        {
          "output_type": "stream",
          "name": "stderr",
          "text": [
            "INFO:werkzeug: * Running on http://127.0.0.1:5000/ (Press CTRL+C to quit)\n"
          ]
        },
        {
          "output_type": "stream",
          "name": "stdout",
          "text": [
            " * Running on http://242f-35-188-101-44.ngrok.io\n",
            " * Traffic stats available on http://127.0.0.1:4040\n"
          ]
        },
        {
          "output_type": "stream",
          "name": "stderr",
          "text": [
            "INFO:werkzeug:127.0.0.1 - - [15/Sep/2022 15:34:05] \"\u001b[37mGET / HTTP/1.1\u001b[0m\" 200 -\n",
            "INFO:werkzeug:127.0.0.1 - - [15/Sep/2022 15:34:06] \"\u001b[33mGET /favicon.ico HTTP/1.1\u001b[0m\" 404 -\n",
            "ERROR:__main__:Exception on / [POST]\n",
            "Traceback (most recent call last):\n",
            "  File \"/usr/local/lib/python3.7/dist-packages/flask/app.py\", line 2447, in wsgi_app\n",
            "    response = self.full_dispatch_request()\n",
            "  File \"/usr/local/lib/python3.7/dist-packages/flask/app.py\", line 1953, in full_dispatch_request\n",
            "    return self.finalize_request(rv)\n",
            "  File \"/usr/local/lib/python3.7/dist-packages/flask/app.py\", line 1968, in finalize_request\n",
            "    response = self.make_response(rv)\n",
            "  File \"/usr/local/lib/python3.7/dist-packages/flask/app.py\", line 2098, in make_response\n",
            "    \"The view function did not return a valid response. The\"\n",
            "TypeError: The view function did not return a valid response. The function either returned None or ended without a return statement.\n",
            "INFO:werkzeug:127.0.0.1 - - [15/Sep/2022 15:34:10] \"\u001b[35m\u001b[1mPOST / HTTP/1.1\u001b[0m\" 500 -\n",
            "INFO:werkzeug:127.0.0.1 - - [15/Sep/2022 15:34:14] \"\u001b[37mGET / HTTP/1.1\u001b[0m\" 200 -\n",
            "ERROR:__main__:Exception on / [POST]\n",
            "Traceback (most recent call last):\n",
            "  File \"/usr/local/lib/python3.7/dist-packages/flask/app.py\", line 2447, in wsgi_app\n",
            "    response = self.full_dispatch_request()\n",
            "  File \"/usr/local/lib/python3.7/dist-packages/flask/app.py\", line 1953, in full_dispatch_request\n",
            "    return self.finalize_request(rv)\n",
            "  File \"/usr/local/lib/python3.7/dist-packages/flask/app.py\", line 1968, in finalize_request\n",
            "    response = self.make_response(rv)\n",
            "  File \"/usr/local/lib/python3.7/dist-packages/flask/app.py\", line 2098, in make_response\n",
            "    \"The view function did not return a valid response. The\"\n",
            "TypeError: The view function did not return a valid response. The function either returned None or ended without a return statement.\n",
            "INFO:werkzeug:127.0.0.1 - - [15/Sep/2022 15:34:18] \"\u001b[35m\u001b[1mPOST / HTTP/1.1\u001b[0m\" 500 -\n"
          ]
        }
      ]
    },
    {
      "cell_type": "code",
      "source": [],
      "metadata": {
        "id": "CBorV1EVwduQ"
      },
      "execution_count": null,
      "outputs": []
    },
    {
      "cell_type": "code",
      "source": [],
      "metadata": {
        "id": "O6WP8g_QwdxQ"
      },
      "execution_count": null,
      "outputs": []
    }
  ]
}